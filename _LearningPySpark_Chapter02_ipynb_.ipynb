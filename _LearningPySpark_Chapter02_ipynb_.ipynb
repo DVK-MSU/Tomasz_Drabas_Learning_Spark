{
  "cells": [
    {
      "cell_type": "code",
      "execution_count": null,
      "metadata": {
        "colab": {
          "base_uri": "https://localhost:8080/"
        },
        "id": "Tseba_PGp4UQ",
        "outputId": "cf724f65-dda7-41ae-84e4-c579909337a8"
      },
      "outputs": [
        {
          "name": "stdout",
          "output_type": "stream",
          "text": [
            "Collecting pyspark\n",
            "  Downloading pyspark-3.4.1.tar.gz (310.8 MB)\n",
            "\u001b[2K     \u001b[90m━━━━━━━━━━━━━━━━━━━━━━━━━━━━━━━━━━━━━━━\u001b[0m \u001b[32m310.8/310.8 MB\u001b[0m \u001b[31m3.1 MB/s\u001b[0m eta \u001b[36m0:00:00\u001b[0m\n",
            "\u001b[?25h  Preparing metadata (setup.py) ... \u001b[?25l\u001b[?25hdone\n",
            "Requirement already satisfied: py4j==0.10.9.7 in /usr/local/lib/python3.10/dist-packages (from pyspark) (0.10.9.7)\n",
            "Building wheels for collected packages: pyspark\n",
            "  Building wheel for pyspark (setup.py) ... \u001b[?25l\u001b[?25hdone\n",
            "  Created wheel for pyspark: filename=pyspark-3.4.1-py2.py3-none-any.whl size=311285387 sha256=6a1850de38687ff54bfe7988e240c691e6b6ddb4cafeedcf8fb2c04d15643f77\n",
            "  Stored in directory: /root/.cache/pip/wheels/0d/77/a3/ff2f74cc9ab41f8f594dabf0579c2a7c6de920d584206e0834\n",
            "Successfully built pyspark\n",
            "Installing collected packages: pyspark\n",
            "Successfully installed pyspark-3.4.1\n"
          ]
        }
      ],
      "source": [
        "! pip install pyspark"
      ]
    },
    {
      "cell_type": "code",
      "execution_count": null,
      "metadata": {
        "id": "9C9OctIRp1mH"
      },
      "outputs": [],
      "source": [
        "from pyspark import SparkConf, SparkContext\n",
        "import pandas as pd\n",
        "\n",
        "# Создаем экземпляр SparkConf и настраиваем его\n",
        "conf = SparkConf()\n",
        "conf.setAppName(\"SparkSession\")\n",
        "conf.setMaster(\"local[*]\")\n",
        "conf.set(\"spark.executor.memory\", \"10g\") # память для выполнения запросов\n",
        "conf.set(\"spark.executor.cores\", \"10\") # количество ядер процессора\n",
        "\n",
        "# Запускаем Spark на порту 3000\n",
        "sc = SparkContext(conf=conf)\n"
      ]
    },
    {
      "cell_type": "markdown",
      "metadata": {
        "id": "uQPTsfXrnpYv"
      },
      "source": [
        "# Chapter 3 - Learning PySpark\n",
        "## Resilient Distributed Datasets"
      ]
    },
    {
      "cell_type": "markdown",
      "metadata": {
        "id": "4G9kt2cVnpYz"
      },
      "source": [
        "### Создание RDDs"
      ]
    },
    {
      "cell_type": "markdown",
      "metadata": {
        "id": "qEsd8BIXnpY0"
      },
      "source": [
        "Существует 2 способа создания RDD в PySpark. <p>1) Вы можете применить метод parallelize к списку:</p>"
      ]
    },
    {
      "cell_type": "code",
      "execution_count": null,
      "metadata": {
        "collapsed": true,
        "id": "jTb7c1fFnpY0"
      },
      "outputs": [],
      "source": [
        "data = sc.parallelize(\n",
        "    [('Amber', 22), ('Alfred', 23), ('Skye',4), ('Albert', 12),\n",
        "     ('Amber', 9)])"
      ]
    },
    {
      "cell_type": "code",
      "execution_count": null,
      "metadata": {
        "id": "udW0k4hJ8vBF"
      },
      "outputs": [],
      "source": [
        "own_data = [('Key_1', 'Value_1'), ('Key_2', 'Value_2')] #создали свой список из кортежей\n",
        "rdd_own_data = sc.parallelize(own_data) #преобразовали список в rdd-коллекцию"
      ]
    },
    {
      "cell_type": "markdown",
      "metadata": {
        "id": "0zaY-MFn4OYT"
      },
      "source": [
        "Проверяем типы данных"
      ]
    },
    {
      "cell_type": "code",
      "execution_count": null,
      "metadata": {
        "colab": {
          "base_uri": "https://localhost:8080/"
        },
        "id": "4PmbSLPt4LRY",
        "outputId": "7938be39-0a0b-4bc8-8ce4-4f7a27d1de20"
      },
      "outputs": [
        {
          "name": "stdout",
          "output_type": "stream",
          "text": [
            "<class 'pyspark.rdd.RDD'>\n",
            "<class 'pyspark.rdd.RDD'>\n"
          ]
        }
      ],
      "source": [
        "print(type(data))\n",
        "print(type(rdd_own_data))"
      ]
    },
    {
      "cell_type": "code",
      "execution_count": null,
      "metadata": {
        "colab": {
          "base_uri": "https://localhost:8080/"
        },
        "id": "9WExlGHe-HIQ",
        "outputId": "34134b70-5f75-465b-dcb1-22714a012894"
      },
      "outputs": [
        {
          "name": "stdout",
          "output_type": "stream",
          "text": [
            "Mounted at /content/drive\n"
          ]
        }
      ],
      "source": [
        "from google.colab import drive\n",
        "drive.mount('/content/drive')"
      ]
    },
    {
      "cell_type": "markdown",
      "metadata": {
        "id": "mpqQlb-KnpY2"
      },
      "source": [
        "2) можно получить rdd-коллекцию из файла"
      ]
    },
    {
      "cell_type": "code",
      "execution_count": null,
      "metadata": {
        "collapsed": true,
        "id": "6ZDPr3YYnpY2"
      },
      "outputs": [],
      "source": [
        "data_from_file = sc.\\\n",
        "    textFile(\n",
        "        '/content/drive/MyDrive/Spark_training/VS14MORT.txt.gz',\n",
        "        4)"
      ]
    },
    {
      "cell_type": "code",
      "execution_count": null,
      "metadata": {
        "colab": {
          "base_uri": "https://localhost:8080/"
        },
        "id": "JFTfQ6V8-o0T",
        "outputId": "e0759411-18a6-4783-db12-790467ba1a3f"
      },
      "outputs": [
        {
          "name": "stdout",
          "output_type": "stream",
          "text": [
            "Collecting googletrans==4.0.0-rc1\n",
            "  Downloading googletrans-4.0.0rc1.tar.gz (20 kB)\n",
            "  Preparing metadata (setup.py) ... \u001b[?25l\u001b[?25hdone\n",
            "Collecting httpx==0.13.3 (from googletrans==4.0.0-rc1)\n",
            "  Downloading httpx-0.13.3-py3-none-any.whl (55 kB)\n",
            "\u001b[2K     \u001b[90m━━━━━━━━━━━━━━━━━━━━━━━━━━━━━━━━━━━━━━━━\u001b[0m \u001b[32m55.1/55.1 kB\u001b[0m \u001b[31m1.8 MB/s\u001b[0m eta \u001b[36m0:00:00\u001b[0m\n",
            "\u001b[?25hRequirement already satisfied: certifi in /usr/local/lib/python3.10/dist-packages (from httpx==0.13.3->googletrans==4.0.0-rc1) (2023.7.22)\n",
            "Collecting hstspreload (from httpx==0.13.3->googletrans==4.0.0-rc1)\n",
            "  Downloading hstspreload-2023.1.1-py3-none-any.whl (1.5 MB)\n",
            "\u001b[2K     \u001b[90m━━━━━━━━━━━━━━━━━━━━━━━━━━━━━━━━━━━━━━━━\u001b[0m \u001b[32m1.5/1.5 MB\u001b[0m \u001b[31m24.7 MB/s\u001b[0m eta \u001b[36m0:00:00\u001b[0m\n",
            "\u001b[?25hRequirement already satisfied: sniffio in /usr/local/lib/python3.10/dist-packages (from httpx==0.13.3->googletrans==4.0.0-rc1) (1.3.0)\n",
            "Collecting chardet==3.* (from httpx==0.13.3->googletrans==4.0.0-rc1)\n",
            "  Downloading chardet-3.0.4-py2.py3-none-any.whl (133 kB)\n",
            "\u001b[2K     \u001b[90m━━━━━━━━━━━━━━━━━━━━━━━━━━━━━━━━━━━━━━\u001b[0m \u001b[32m133.4/133.4 kB\u001b[0m \u001b[31m13.3 MB/s\u001b[0m eta \u001b[36m0:00:00\u001b[0m\n",
            "\u001b[?25hCollecting idna==2.* (from httpx==0.13.3->googletrans==4.0.0-rc1)\n",
            "  Downloading idna-2.10-py2.py3-none-any.whl (58 kB)\n",
            "\u001b[2K     \u001b[90m━━━━━━━━━━━━━━━━━━━━━━━━━━━━━━━━━━━━━━━━\u001b[0m \u001b[32m58.8/58.8 kB\u001b[0m \u001b[31m6.4 MB/s\u001b[0m eta \u001b[36m0:00:00\u001b[0m\n",
            "\u001b[?25hCollecting rfc3986<2,>=1.3 (from httpx==0.13.3->googletrans==4.0.0-rc1)\n",
            "  Downloading rfc3986-1.5.0-py2.py3-none-any.whl (31 kB)\n",
            "Collecting httpcore==0.9.* (from httpx==0.13.3->googletrans==4.0.0-rc1)\n",
            "  Downloading httpcore-0.9.1-py3-none-any.whl (42 kB)\n",
            "\u001b[2K     \u001b[90m━━━━━━━━━━━━━━━━━━━━━━━━━━━━━━━━━━━━━━━━\u001b[0m \u001b[32m42.6/42.6 kB\u001b[0m \u001b[31m4.6 MB/s\u001b[0m eta \u001b[36m0:00:00\u001b[0m\n",
            "\u001b[?25hCollecting h11<0.10,>=0.8 (from httpcore==0.9.*->httpx==0.13.3->googletrans==4.0.0-rc1)\n",
            "  Downloading h11-0.9.0-py2.py3-none-any.whl (53 kB)\n",
            "\u001b[2K     \u001b[90m━━━━━━━━━━━━━━━━━━━━━━━━━━━━━━━━━━━━━━━━\u001b[0m \u001b[32m53.6/53.6 kB\u001b[0m \u001b[31m5.7 MB/s\u001b[0m eta \u001b[36m0:00:00\u001b[0m\n",
            "\u001b[?25hCollecting h2==3.* (from httpcore==0.9.*->httpx==0.13.3->googletrans==4.0.0-rc1)\n",
            "  Downloading h2-3.2.0-py2.py3-none-any.whl (65 kB)\n",
            "\u001b[2K     \u001b[90m━━━━━━━━━━━━━━━━━━━━━━━━━━━━━━━━━━━━━━━━\u001b[0m \u001b[32m65.0/65.0 kB\u001b[0m \u001b[31m6.6 MB/s\u001b[0m eta \u001b[36m0:00:00\u001b[0m\n",
            "\u001b[?25hCollecting hyperframe<6,>=5.2.0 (from h2==3.*->httpcore==0.9.*->httpx==0.13.3->googletrans==4.0.0-rc1)\n",
            "  Downloading hyperframe-5.2.0-py2.py3-none-any.whl (12 kB)\n",
            "Collecting hpack<4,>=3.0 (from h2==3.*->httpcore==0.9.*->httpx==0.13.3->googletrans==4.0.0-rc1)\n",
            "  Downloading hpack-3.0.0-py2.py3-none-any.whl (38 kB)\n",
            "Building wheels for collected packages: googletrans\n",
            "  Building wheel for googletrans (setup.py) ... \u001b[?25l\u001b[?25hdone\n",
            "  Created wheel for googletrans: filename=googletrans-4.0.0rc1-py3-none-any.whl size=17396 sha256=3dd7ce48836ab6060870f1e3cf7a31ae42575380273ea0a9967ceb735a385aea\n",
            "  Stored in directory: /root/.cache/pip/wheels/c0/59/9f/7372f0cf70160fe61b528532e1a7c8498c4becd6bcffb022de\n",
            "Successfully built googletrans\n",
            "Installing collected packages: rfc3986, hyperframe, hpack, h11, chardet, idna, hstspreload, h2, httpcore, httpx, googletrans\n",
            "  Attempting uninstall: chardet\n",
            "    Found existing installation: chardet 5.2.0\n",
            "    Uninstalling chardet-5.2.0:\n",
            "      Successfully uninstalled chardet-5.2.0\n",
            "  Attempting uninstall: idna\n",
            "    Found existing installation: idna 3.4\n",
            "    Uninstalling idna-3.4:\n",
            "      Successfully uninstalled idna-3.4\n",
            "Successfully installed chardet-3.0.4 googletrans-4.0.0rc1 h11-0.9.0 h2-3.2.0 hpack-3.0.0 hstspreload-2023.1.1 httpcore-0.9.1 httpx-0.13.3 hyperframe-5.2.0 idna-2.10 rfc3986-1.5.0\n"
          ]
        }
      ],
      "source": [
        "!pip install googletrans==4.0.0-rc1"
      ]
    },
    {
      "cell_type": "code",
      "execution_count": null,
      "metadata": {
        "id": "fs5dLtiHDpKX"
      },
      "outputs": [],
      "source": [
        "def translate(text, language='ru'):\n",
        "    from googletrans import Translator\n",
        "\n",
        "    # Создание экземпляра класса Translator\n",
        "    translator = Translator()\n",
        "\n",
        "    # Пример использования переводчика\n",
        "\n",
        "    translated_text = translator.translate(text, dest=language)\n",
        "\n",
        "    # Вывод переведенного текста\n",
        "    print(translated_text.text)"
      ]
    },
    {
      "cell_type": "markdown",
      "metadata": {
        "id": "d32OJsv6sdOp"
      },
      "source": []
    },
    {
      "cell_type": "code",
      "execution_count": null,
      "metadata": {
        "colab": {
          "base_uri": "https://localhost:8080/"
        },
        "id": "Bit95nP6EYpK",
        "outputId": "a8f1fab9-1a00-4e95-9586-35430f8e7167"
      },
      "outputs": [
        {
          "name": "stdout",
          "output_type": "stream",
          "text": [
            "Сразу же\n"
          ]
        }
      ],
      "source": [
        "translate('Fetch Immediately', language='ru')"
      ]
    },
    {
      "cell_type": "markdown",
      "metadata": {
        "id": "TLwDLakonpY2"
      },
      "source": [
        "Note, that to execute the code above you will have to change the path where the data is stored. The dataset can be downloaded from http://tomdrabas.com/data/VS14MORT.txt.gz"
      ]
    },
    {
      "cell_type": "markdown",
      "metadata": {
        "id": "oSHUy9ECnpY3"
      },
      "source": [
        "#### Schema"
      ]
    },
    {
      "cell_type": "markdown",
      "metadata": {
        "id": "-u4o0edJnpY3"
      },
      "source": [
        "RDDs - это не структурированный способ хранения данных"
      ]
    },
    {
      "cell_type": "code",
      "execution_count": null,
      "metadata": {
        "colab": {
          "base_uri": "https://localhost:8080/"
        },
        "id": "U9FlnxUMnpY4",
        "outputId": "c1035e03-f10a-4027-9039-2b04facb485f"
      },
      "outputs": [
        {
          "data": {
            "text/plain": [
              "[('Ferrari', 'fast'), {'Porsche': 100000}, ['Spain', 'visited', 4504]]"
            ]
          },
          "execution_count": 11,
          "metadata": {},
          "output_type": "execute_result"
        }
      ],
      "source": [
        "data_heterogenous = sc.parallelize([('Ferrari', 'fast'), {'Porsche': 100000},\n",
        "                                    ['Spain','visited', 4504]]).collect()\n",
        "data_heterogenous"
      ]
    },
    {
      "cell_type": "markdown",
      "metadata": {
        "id": "MRLCoVbenpY5"
      },
      "source": [
        "Вы можете получить доступ к данным в объекте, как это обычно делаете в Python"
      ]
    },
    {
      "cell_type": "code",
      "execution_count": null,
      "metadata": {
        "colab": {
          "base_uri": "https://localhost:8080/"
        },
        "id": "wZm211AQnpY5",
        "outputId": "13388144-d666-45c3-b57a-9700cd1d6c54"
      },
      "outputs": [
        {
          "data": {
            "text/plain": [
              "100000"
            ]
          },
          "execution_count": 12,
          "metadata": {},
          "output_type": "execute_result"
        }
      ],
      "source": [
        "data_heterogenous[1]['Porsche'] #из списка извлекли элемент №1 (это {'Porsche': 100000}).\n",
        "# И обратились к нему по ключу 'Porsche'"
      ]
    },
    {
      "cell_type": "code",
      "execution_count": null,
      "metadata": {
        "colab": {
          "base_uri": "https://localhost:8080/",
          "height": 36
        },
        "id": "-bpEj4woHc8Y",
        "outputId": "a027beb8-7235-46c7-9d45-a00b6f863f99"
      },
      "outputs": [
        {
          "data": {
            "application/vnd.google.colaboratory.intrinsic+json": {
              "type": "string"
            },
            "text/plain": [
              "'fast'"
            ]
          },
          "execution_count": 13,
          "metadata": {},
          "output_type": "execute_result"
        }
      ],
      "source": [
        "data_heterogenous[0][1]"
      ]
    },
    {
      "cell_type": "code",
      "execution_count": null,
      "metadata": {
        "colab": {
          "base_uri": "https://localhost:8080/",
          "height": 36
        },
        "id": "d2lCxpp6H3d7",
        "outputId": "3299c17e-2f80-49a2-a027-1a47555db7a9"
      },
      "outputs": [
        {
          "data": {
            "application/vnd.google.colaboratory.intrinsic+json": {
              "type": "string"
            },
            "text/plain": [
              "'visited'"
            ]
          },
          "execution_count": 14,
          "metadata": {},
          "output_type": "execute_result"
        }
      ],
      "source": [
        "data_heterogenous[2][1]"
      ]
    },
    {
      "cell_type": "markdown",
      "metadata": {
        "id": "jHPHSKGrnpY5"
      },
      "source": [
        "#### Чтение из файлов"
      ]
    },
    {
      "cell_type": "markdown",
      "metadata": {
        "id": "s8JIZhOlnpY5"
      },
      "source": [
        "Когда вы читаете из текстового файла, каждая строка из файла образует элемент RDD."
      ]
    },
    {
      "cell_type": "code",
      "execution_count": null,
      "metadata": {
        "colab": {
          "base_uri": "https://localhost:8080/"
        },
        "id": "Funpzev7npY6",
        "outputId": "37e2c6fb-1e3d-44e9-e4aa-f7e1d829dc53"
      },
      "outputs": [
        {
          "data": {
            "text/plain": [
              "['                   1                                          2101  M1087 432311  4M4                2014U7CN                                    I64 238 070   24 0111I64                                                                                                                                                                           01 I64                                                                                                  01  11                                 100 601']"
            ]
          },
          "execution_count": 15,
          "metadata": {},
          "output_type": "execute_result"
        }
      ],
      "source": [
        "data_from_file.take(1)"
      ]
    },
    {
      "cell_type": "markdown",
      "metadata": {
        "id": "xr_PqsitnpY6"
      },
      "source": [
        "#### Пользовательские функции"
      ]
    },
    {
      "cell_type": "markdown",
      "metadata": {
        "id": "qDgRyi9DnpY6"
      },
      "source": [
        "Вы можете создать более длинный метод для преобразования ваших данных вместо использования выражения Lambda."
      ]
    },
    {
      "cell_type": "code",
      "execution_count": null,
      "metadata": {
        "id": "TSH2g9-0npY6"
      },
      "outputs": [],
      "source": [
        "def extractInformation(row):\n",
        "    import re\n",
        "    import numpy as np\n",
        "\n",
        "    selected_indices = [\n",
        "         2,4,5,6,7,9,10,11,12,13,14,15,16,17,18,\n",
        "         19,21,22,23,24,25,27,28,29,30,32,33,34,\n",
        "         36,37,38,39,40,41,42,43,44,45,46,47,48,\n",
        "         49,50,51,52,53,54,55,56,58,60,61,62,63,\n",
        "         64,65,66,67,68,69,70,71,72,73,74,75,76,\n",
        "         77,78,79,81,82,83,84,85,87,89\n",
        "    ]\n",
        "\n",
        "    '''\n",
        "        Input record schema\n",
        "        schema: n-m (o) -- xxx\n",
        "            n - position from\n",
        "            m - position to\n",
        "            o - number of characters\n",
        "            xxx - description\n",
        "        1. 1-19 (19) -- reserved positions\n",
        "        2. 20 (1) -- resident status\n",
        "        3. 21-60 (40) -- reserved positions\n",
        "        4. 61-62 (2) -- education code (1989 revision)\n",
        "        5. 63 (1) -- education code (2003 revision)\n",
        "        6. 64 (1) -- education reporting flag\n",
        "        7. 65-66 (2) -- month of death\n",
        "        8. 67-68 (2) -- reserved positions\n",
        "        9. 69 (1) -- sex\n",
        "        10. 70 (1) -- age: 1-years, 2-months, 4-days, 5-hours, 6-minutes, 9-not stated\n",
        "        11. 71-73 (3) -- number of units (years, months etc)\n",
        "        12. 74 (1) -- age substitution flag (if the age reported in positions 70-74 is calculated using dates of birth and death)\n",
        "        13. 75-76 (2) -- age recoded into 52 categories\n",
        "        14. 77-78 (2) -- age recoded into 27 categories\n",
        "        15. 79-80 (2) -- age recoded into 12 categories\n",
        "        16. 81-82 (2) -- infant age recoded into 22 categories\n",
        "        17. 83 (1) -- place of death\n",
        "        18. 84 (1) -- marital status\n",
        "        19. 85 (1) -- day of the week of death\n",
        "        20. 86-101 (16) -- reserved positions\n",
        "        21. 102-105 (4) -- current year\n",
        "        22. 106 (1) -- injury at work\n",
        "        23. 107 (1) -- manner of death\n",
        "        24. 108 (1) -- manner of disposition\n",
        "        25. 109 (1) -- autopsy\n",
        "        26. 110-143 (34) -- reserved positions\n",
        "        27. 144 (1) -- activity code\n",
        "        28. 145 (1) -- place of injury\n",
        "        29. 146-149 (4) -- ICD code\n",
        "        30. 150-152 (3) -- 358 cause recode\n",
        "        31. 153 (1) -- reserved position\n",
        "        32. 154-156 (3) -- 113 cause recode\n",
        "        33. 157-159 (3) -- 130 infant cause recode\n",
        "        34. 160-161 (2) -- 39 cause recode\n",
        "        35. 162 (1) -- reserved position\n",
        "        36. 163-164 (2) -- number of entity-axis conditions\n",
        "        37-56. 165-304 (140) -- list of up to 20 conditions\n",
        "        57. 305-340 (36) -- reserved positions\n",
        "        58. 341-342 (2) -- number of record axis conditions\n",
        "        59. 343 (1) -- reserved position\n",
        "        60-79. 344-443 (100) -- record axis conditions\n",
        "        80. 444 (1) -- reserve position\n",
        "        81. 445-446 (2) -- race\n",
        "        82. 447 (1) -- bridged race flag\n",
        "        83. 448 (1) -- race imputation flag\n",
        "        84. 449 (1) -- race recode (3 categories)\n",
        "        85. 450 (1) -- race recode (5 categories)\n",
        "        86. 461-483 (33) -- reserved positions\n",
        "        87. 484-486 (3) -- Hispanic origin\n",
        "        88. 487 (1) -- reserved\n",
        "        89. 488 (1) -- Hispanic origin/race recode\n",
        "     '''\n",
        "\n",
        "    record_split = re\\\n",
        "        .compile(\n",
        "            r'([\\s]{19})([0-9]{1})([\\s]{40})([0-9\\s]{2})([0-9\\s]{1})([0-9]{1})([0-9]{2})' +\n",
        "            r'([\\s]{2})([FM]{1})([0-9]{1})([0-9]{3})([0-9\\s]{1})([0-9]{2})([0-9]{2})' +\n",
        "            r'([0-9]{2})([0-9\\s]{2})([0-9]{1})([SMWDU]{1})([0-9]{1})([\\s]{16})([0-9]{4})' +\n",
        "            r'([YNU]{1})([0-9\\s]{1})([BCOU]{1})([YNU]{1})([\\s]{34})([0-9\\s]{1})([0-9\\s]{1})' +\n",
        "            r'([A-Z0-9\\s]{4})([0-9]{3})([\\s]{1})([0-9\\s]{3})([0-9\\s]{3})([0-9\\s]{2})([\\s]{1})' +\n",
        "            r'([0-9\\s]{2})([A-Z0-9\\s]{7})([A-Z0-9\\s]{7})([A-Z0-9\\s]{7})([A-Z0-9\\s]{7})' +\n",
        "            r'([A-Z0-9\\s]{7})([A-Z0-9\\s]{7})([A-Z0-9\\s]{7})([A-Z0-9\\s]{7})([A-Z0-9\\s]{7})' +\n",
        "            r'([A-Z0-9\\s]{7})([A-Z0-9\\s]{7})([A-Z0-9\\s]{7})([A-Z0-9\\s]{7})([A-Z0-9\\s]{7})' +\n",
        "            r'([A-Z0-9\\s]{7})([A-Z0-9\\s]{7})([A-Z0-9\\s]{7})([A-Z0-9\\s]{7})([A-Z0-9\\s]{7})' +\n",
        "            r'([A-Z0-9\\s]{7})([\\s]{36})([A-Z0-9\\s]{2})([\\s]{1})([A-Z0-9\\s]{5})([A-Z0-9\\s]{5})' +\n",
        "            r'([A-Z0-9\\s]{5})([A-Z0-9\\s]{5})([A-Z0-9\\s]{5})([A-Z0-9\\s]{5})([A-Z0-9\\s]{5})' +\n",
        "            r'([A-Z0-9\\s]{5})([A-Z0-9\\s]{5})([A-Z0-9\\s]{5})([A-Z0-9\\s]{5})([A-Z0-9\\s]{5})' +\n",
        "            r'([A-Z0-9\\s]{5})([A-Z0-9\\s]{5})([A-Z0-9\\s]{5})([A-Z0-9\\s]{5})([A-Z0-9\\s]{5})' +\n",
        "            r'([A-Z0-9\\s]{5})([A-Z0-9\\s]{5})([A-Z0-9\\s]{5})([\\s]{1})([0-9\\s]{2})([0-9\\s]{1})' +\n",
        "            r'([0-9\\s]{1})([0-9\\s]{1})([0-9\\s]{1})([\\s]{33})([0-9\\s]{3})([0-9\\s]{1})([0-9\\s]{1})')\n",
        "    try:\n",
        "        rs = np.array(record_split.split(row))[selected_indices]\n",
        "    except:\n",
        "        rs = np.array(['-99'] * len(selected_indices))\n",
        "    return rs\n",
        "#     return record_split.split(row)"
      ]
    },
    {
      "cell_type": "markdown",
      "metadata": {
        "id": "HPxn6ReLnpY8"
      },
      "source": [
        "<br>Теперь, вместо использования Lambda, мы будем <br>использовать метод extractInformation(...) для <br>разделения и преобразования нашего набора данных.\n"
      ]
    },
    {
      "cell_type": "code",
      "execution_count": null,
      "metadata": {
        "colab": {
          "base_uri": "https://localhost:8080/"
        },
        "id": "zZHL4ukcnpY8",
        "outputId": "cf3793b0-6298-4eab-aa5b-e498f3f722dc"
      },
      "outputs": [
        {
          "data": {
            "text/plain": [
              "[array(['1', '  ', '2', '1', '01', 'M', '1', '087', ' ', '43', '23', '11',\n",
              "        '  ', '4', 'M', '4', '2014', 'U', '7', 'C', 'N', ' ', ' ', 'I64 ',\n",
              "        '238', '070', '   ', '24', '01', '11I64  ', '       ', '       ',\n",
              "        '       ', '       ', '       ', '       ', '       ', '       ',\n",
              "        '       ', '       ', '       ', '       ', '       ', '       ',\n",
              "        '       ', '       ', '       ', '       ', '       ', '01',\n",
              "        'I64  ', '     ', '     ', '     ', '     ', '     ', '     ',\n",
              "        '     ', '     ', '     ', '     ', '     ', '     ', '     ',\n",
              "        '     ', '     ', '     ', '     ', '     ', '     ', '01', ' ',\n",
              "        ' ', '1', '1', '100', '6'], dtype='<U40')]"
            ]
          },
          "execution_count": 17,
          "metadata": {},
          "output_type": "execute_result"
        }
      ],
      "source": [
        "data_from_file_conv = data_from_file.map(extractInformation)\n",
        "data_from_file_conv.map(lambda row: row).take(1)"
      ]
    },
    {
      "cell_type": "markdown",
      "metadata": {
        "id": "6My_dbXynpY8"
      },
      "source": [
        "### Преобразования"
      ]
    },
    {
      "cell_type": "markdown",
      "metadata": {
        "id": "_tbaAmAJnpY8"
      },
      "source": [
        "#### .map(...)"
      ]
    },
    {
      "cell_type": "markdown",
      "metadata": {
        "id": "bUFo78RQnpY9"
      },
      "source": [
        "Метод применяется к каждому элементу RDD: в случае для датасета data_from_file_conv можно считать это как преобразование каждой строки"
      ]
    },
    {
      "cell_type": "code",
      "execution_count": null,
      "metadata": {
        "colab": {
          "base_uri": "https://localhost:8080/"
        },
        "id": "gKfZUwLXN-oe",
        "outputId": "d815d4aa-8d18-4369-f99d-78af78bf5054"
      },
      "outputs": [
        {
          "data": {
            "text/plain": [
              "array(['1', '  ', '4', '1', '01', 'F', '1', '070', ' ', '40', '20', '09',\n",
              "       '  ', '1', 'M', '4', '2014', 'U', '7', 'C', 'N', ' ', ' ', 'I251',\n",
              "       '215', '063', '   ', '21', '08', '11I251 ', '12I469 ', '21J449 ',\n",
              "       '22J459 ', '31I500 ', '61I10  ', '62D649 ', '63E669 ', '       ',\n",
              "       '       ', '       ', '       ', '       ', '       ', '       ',\n",
              "       '       ', '       ', '       ', '       ', '       ', '07',\n",
              "       'I251 ', 'D649 ', 'E669 ', 'I10  ', 'I469 ', 'I500 ', 'J448 ',\n",
              "       '     ', '     ', '     ', '     ', '     ', '     ', '     ',\n",
              "       '     ', '     ', '     ', '     ', '     ', '     ', '03', ' ',\n",
              "       ' ', '2', '3', '100', '8'], dtype='<U40')"
            ]
          },
          "execution_count": 18,
          "metadata": {},
          "output_type": "execute_result"
        }
      ],
      "source": [
        "data_from_file_conv.take(20)[15]"
      ]
    },
    {
      "cell_type": "code",
      "execution_count": null,
      "metadata": {
        "colab": {
          "base_uri": "https://localhost:8080/"
        },
        "id": "tqJ5xLx4npY9",
        "outputId": "9bfe272e-5792-4456-b653-bfffaec9a433"
      },
      "outputs": [
        {
          "data": {
            "text/plain": [
              "[4, 3, 2, 1, 2, 4, 6, 6, 6, -99, 2, 3, -99, 4, 6, 4, 2, 5, 4, 1]"
            ]
          },
          "execution_count": 19,
          "metadata": {},
          "output_type": "execute_result"
        }
      ],
      "source": [
        "data_2014 = data_from_file_conv.map(lambda row: int(row[15]))\n",
        "data_2014.take(20)\n",
        "#берём из каждой строки файла элемент №15,\n",
        "#преобразуем его в целое число и возвращаем 20 таких элементов'"
      ]
    },
    {
      "cell_type": "code",
      "execution_count": null,
      "metadata": {
        "colab": {
          "base_uri": "https://localhost:8080/"
        },
        "id": "dWwo52BWl4h3",
        "outputId": "a826ecb5-9066-4d13-86f4-4dd724663898"
      },
      "outputs": [
        {
          "name": "stdout",
          "output_type": "stream",
          "text": [
            "Неожиданные плохие вещи произойдут, если вы не прочитаете это!\n"
          ]
        }
      ],
      "source": [
        "translate('Unexpected bad things will happen if you don’t read this!')"
      ]
    },
    {
      "cell_type": "code",
      "execution_count": null,
      "metadata": {
        "id": "2awtH9mw7Fo8"
      },
      "outputs": [],
      "source": [
        "import math"
      ]
    },
    {
      "cell_type": "code",
      "execution_count": null,
      "metadata": {
        "colab": {
          "base_uri": "https://localhost:8080/"
        },
        "id": "g5FUJxDHSY9M",
        "outputId": "e28f090f-4042-4dc4-92d8-953cec8d553e"
      },
      "outputs": [
        {
          "data": {
            "text/plain": [
              "[4.557438524302,\n",
              " 4.082762530298219,\n",
              " 4.4031242374328485,\n",
              " 4.324555320336759,\n",
              " 4.164414002968976]"
            ]
          },
          "execution_count": 22,
          "metadata": {},
          "output_type": "execute_result"
        }
      ],
      "source": [
        "data_from_file_conv.map(lambda x: math.sqrt(int(x[9]))-2.0).take(5)"
      ]
    },
    {
      "cell_type": "markdown",
      "metadata": {
        "id": "Kd8s6Gu7npY9"
      },
      "source": [
        "Вы можете комбинировать колонки"
      ]
    },
    {
      "cell_type": "code",
      "execution_count": null,
      "metadata": {
        "colab": {
          "base_uri": "https://localhost:8080/"
        },
        "id": "DZsvFsO6npY9",
        "outputId": "7e0ba486-c096-474c-a344-d144118fc526"
      },
      "outputs": [
        {
          "data": {
            "text/plain": [
              "[(529, 9),\n",
              " (289, 9),\n",
              " (441, 9),\n",
              " (400, 9),\n",
              " (324, 9),\n",
              " (576, 9),\n",
              " (484, 9),\n",
              " (289, 9),\n",
              " (529, 9),\n",
              " (9801, 2122)]"
            ]
          },
          "execution_count": 23,
          "metadata": {},
          "output_type": "execute_result"
        }
      ],
      "source": [
        "data_2014_2 = data_from_file_conv.map(lambda row: (int(row[10])**2, 2023-int(row[16])))\n",
        "data_2014_2.take(10)"
      ]
    },
    {
      "cell_type": "markdown",
      "metadata": {
        "id": "9JaSlMgGnpY-"
      },
      "source": [
        "#### .filter(...)"
      ]
    },
    {
      "cell_type": "markdown",
      "metadata": {
        "id": "lUeVH9cinpY-"
      },
      "source": [
        "Метод .filter (...) позволяет выбрать\n",
        "Элементы вашего набора данных, которые соответствуют указанным критериям."
      ]
    },
    {
      "cell_type": "code",
      "execution_count": null,
      "metadata": {
        "colab": {
          "base_uri": "https://localhost:8080/"
        },
        "id": "1RUhMWD13HTI",
        "outputId": "cad7ccee-feb1-4504-de64-0267acf738d0"
      },
      "outputs": [
        {
          "data": {
            "text/plain": [
              "[array(['1', '  ', '2', '1', '01', 'M', '1', '087', ' ', '43', '23', '11',\n",
              "        '  ', '4', 'M', '4', '2014', 'U', '7', 'C', 'N', ' ', ' ', 'I64 ',\n",
              "        '238', '070', '   ', '24', '01', '11I64  ', '       ', '       ',\n",
              "        '       ', '       ', '       ', '       ', '       ', '       ',\n",
              "        '       ', '       ', '       ', '       ', '       ', '       ',\n",
              "        '       ', '       ', '       ', '       ', '       ', '01',\n",
              "        'I64  ', '     ', '     ', '     ', '     ', '     ', '     ',\n",
              "        '     ', '     ', '     ', '     ', '     ', '     ', '     ',\n",
              "        '     ', '     ', '     ', '     ', '     ', '     ', '01', ' ',\n",
              "        ' ', '1', '1', '100', '6'], dtype='<U40'),\n",
              " array(['1', '  ', '2', '1', '01', 'M', '1', '058', ' ', '37', '17', '08',\n",
              "        '  ', '4', 'D', '3', '2014', 'U', '7', 'C', 'N', ' ', ' ', 'I250',\n",
              "        '214', '062', '   ', '21', '03', '11I250 ', '61I272 ', '62E669 ',\n",
              "        '       ', '       ', '       ', '       ', '       ', '       ',\n",
              "        '       ', '       ', '       ', '       ', '       ', '       ',\n",
              "        '       ', '       ', '       ', '       ', '       ', '03',\n",
              "        'I250 ', 'E669 ', 'I272 ', '     ', '     ', '     ', '     ',\n",
              "        '     ', '     ', '     ', '     ', '     ', '     ', '     ',\n",
              "        '     ', '     ', '     ', '     ', '     ', '     ', '01', ' ',\n",
              "        ' ', '1', '1', '100', '6'], dtype='<U40'),\n",
              " array(['1', '  ', '7', '1', '01', 'F', '1', '075', ' ', '41', '21', '10',\n",
              "        '  ', '4', 'W', '2', '2014', 'U', '7', 'C', 'N', ' ', ' ', 'J449',\n",
              "        '267', '086', '   ', '28', '02', '11J449 ', '61F179 ', '       ',\n",
              "        '       ', '       ', '       ', '       ', '       ', '       ',\n",
              "        '       ', '       ', '       ', '       ', '       ', '       ',\n",
              "        '       ', '       ', '       ', '       ', '       ', '02',\n",
              "        'J449 ', 'F179 ', '     ', '     ', '     ', '     ', '     ',\n",
              "        '     ', '     ', '     ', '     ', '     ', '     ', '     ',\n",
              "        '     ', '     ', '     ', '     ', '     ', '     ', '01', ' ',\n",
              "        ' ', '1', '1', '100', '6'], dtype='<U40'),\n",
              " array(['1', '  ', '6', '1', '01', 'M', '1', '074', ' ', '40', '20', '09',\n",
              "        '  ', '6', 'D', '1', '2014', 'U', '7', 'C', 'N', ' ', ' ', 'I48 ',\n",
              "        '228', '068', '   ', '22', '03', '11I64  ', '21I48  ', '61F03  ',\n",
              "        '       ', '       ', '       ', '       ', '       ', '       ',\n",
              "        '       ', '       ', '       ', '       ', '       ', '       ',\n",
              "        '       ', '       ', '       ', '       ', '       ', '03',\n",
              "        'I48  ', 'F03  ', 'I64  ', '     ', '     ', '     ', '     ',\n",
              "        '     ', '     ', '     ', '     ', '     ', '     ', '     ',\n",
              "        '     ', '     ', '     ', '     ', '     ', '     ', '01', ' ',\n",
              "        ' ', '1', '1', '100', '6'], dtype='<U40'),\n",
              " array(['1', '  ', '3', '1', '01', 'M', '1', '064', ' ', '38', '18', '08',\n",
              "        '  ', '4', 'D', '2', '2014', 'U', '7', 'C', 'N', ' ', ' ', 'I250',\n",
              "        '214', '062', '   ', '21', '01', '11I250 ', '       ', '       ',\n",
              "        '       ', '       ', '       ', '       ', '       ', '       ',\n",
              "        '       ', '       ', '       ', '       ', '       ', '       ',\n",
              "        '       ', '       ', '       ', '       ', '       ', '01',\n",
              "        'I250 ', '     ', '     ', '     ', '     ', '     ', '     ',\n",
              "        '     ', '     ', '     ', '     ', '     ', '     ', '     ',\n",
              "        '     ', '     ', '     ', '     ', '     ', '     ', '01', ' ',\n",
              "        ' ', '1', '1', '100', '6'], dtype='<U40')]"
            ]
          },
          "execution_count": 24,
          "metadata": {},
          "output_type": "execute_result"
        }
      ],
      "source": [
        "data_from_file_conv.take(5)"
      ]
    },
    {
      "cell_type": "code",
      "execution_count": null,
      "metadata": {
        "colab": {
          "base_uri": "https://localhost:8080/"
        },
        "id": "voOTUJE31SQZ",
        "outputId": "063842ec-148e-468e-dca5-571518bedff8"
      },
      "outputs": [
        {
          "data": {
            "text/plain": [
              "[array(['1', '  ', '2', '1', '01', 'M', '1', '087', ' ', '43', '23', '11',\n",
              "        '  ', '4', 'M', '4', '2014', 'U', '7', 'C', 'N', ' ', ' ', 'I64 ',\n",
              "        '238', '070', '   ', '24', '01', '11I64  ', '       ', '       ',\n",
              "        '       ', '       ', '       ', '       ', '       ', '       ',\n",
              "        '       ', '       ', '       ', '       ', '       ', '       ',\n",
              "        '       ', '       ', '       ', '       ', '       ', '01',\n",
              "        'I64  ', '     ', '     ', '     ', '     ', '     ', '     ',\n",
              "        '     ', '     ', '     ', '     ', '     ', '     ', '     ',\n",
              "        '     ', '     ', '     ', '     ', '     ', '     ', '01', ' ',\n",
              "        ' ', '1', '1', '100', '6'], dtype='<U40')]"
            ]
          },
          "execution_count": 25,
          "metadata": {},
          "output_type": "execute_result"
        }
      ],
      "source": [
        "data_from_file_conv.filter(lambda row: row[3] == '1' and row[-1] == '6').take(1)"
      ]
    },
    {
      "cell_type": "code",
      "execution_count": null,
      "metadata": {
        "colab": {
          "base_uri": "https://localhost:8080/"
        },
        "id": "MJsi503FnpY-",
        "outputId": "f5f75643-c064-4e43-bffe-f6ab9460470a"
      },
      "outputs": [
        {
          "data": {
            "text/plain": [
              "6"
            ]
          },
          "execution_count": 26,
          "metadata": {},
          "output_type": "execute_result"
        }
      ],
      "source": [
        "data_filtered = data_from_file_conv.filter(lambda row: row[5] == 'F' and row[21] == '0')\n",
        "data_filtered.count()"
      ]
    },
    {
      "cell_type": "markdown",
      "metadata": {
        "id": "Ju0FTNcSnpY_"
      },
      "source": [
        "#### .flatMap(...)"
      ]
    },
    {
      "cell_type": "code",
      "execution_count": null,
      "metadata": {
        "colab": {
          "base_uri": "https://localhost:8080/"
        },
        "id": "1Jym4MGG3eIF",
        "outputId": "d2a18458-4c7b-43e4-a9b6-c433b468e3c5"
      },
      "outputs": [
        {
          "name": "stdout",
          "output_type": "stream",
          "text": [
            "Метод .flatmap (...) работает аналогично .map (...), но возвращает сплющенные результаты вместо списка.\n"
          ]
        }
      ],
      "source": [
        "translate('The .flatMap(...) method works similarly to .map(...) but returns a flattened results instead of a list.')"
      ]
    },
    {
      "cell_type": "markdown",
      "metadata": {
        "id": "nYL0vzjHnpY_"
      },
      "source": [
        "Метод .flatmap (...) работает аналогично .map (...), но возвращает сжатые результаты вместо списка."
      ]
    },
    {
      "cell_type": "code",
      "execution_count": null,
      "metadata": {
        "colab": {
          "base_uri": "https://localhost:8080/"
        },
        "id": "akoyKm8jnpY_",
        "outputId": "c99fe4ff-344b-429d-993e-2cb81bafbcf7"
      },
      "outputs": [
        {
          "data": {
            "text/plain": [
              "['2014', 2015, '2014', 2015, '2014', 2015, '2014', 2015, '2014', 2015]"
            ]
          },
          "execution_count": 28,
          "metadata": {},
          "output_type": "execute_result"
        }
      ],
      "source": [
        "data_2014_flat = data_from_file_conv.flatMap(lambda row: (row[16], int(row[16]) + 1))\n",
        "data_2014_flat.take(10)"
      ]
    },
    {
      "cell_type": "markdown",
      "metadata": {
        "id": "4aZC8yHjnpZA"
      },
      "source": [
        "#### .distinct()"
      ]
    },
    {
      "cell_type": "markdown",
      "metadata": {
        "id": "XkjmMBvdnpZA"
      },
      "source": [
        "This method returns a list of distinct values in a specified column."
      ]
    },
    {
      "cell_type": "code",
      "execution_count": null,
      "metadata": {
        "id": "RSVV83c2npZA"
      },
      "outputs": [],
      "source": [
        "distinct_gender = data_from_file_conv.map(lambda row: row[5]).distinct().collect()\n",
        "distinct_gender"
      ]
    },
    {
      "cell_type": "markdown",
      "metadata": {
        "id": "7zqUDMZ7npZA"
      },
      "source": [
        "#### .sample(...)"
      ]
    },
    {
      "cell_type": "markdown",
      "metadata": {
        "id": "brjJRdc7npZB"
      },
      "source": [
        "The `.sample()` method returns a randomized sample from the dataset."
      ]
    },
    {
      "cell_type": "code",
      "execution_count": null,
      "metadata": {
        "colab": {
          "background_save": true
        },
        "id": "aD42-1PHnpZB"
      },
      "outputs": [],
      "source": [
        "fraction = 0.1\n",
        "data_sample = data_from_file_conv.sample(False, fraction, 666)\n",
        "\n",
        "data_sample.take(1)"
      ]
    },
    {
      "cell_type": "markdown",
      "metadata": {
        "id": "yyzm6dSfnpZB"
      },
      "source": [
        "Let's confirm that we really got 10% of all the records."
      ]
    },
    {
      "cell_type": "code",
      "execution_count": null,
      "metadata": {
        "colab": {
          "background_save": true
        },
        "id": "3Kx4ZK2CnpZM"
      },
      "outputs": [],
      "source": [
        "print('Original dataset: {0}, sample: {1}'.format(data_from_file_conv.count(), data_sample.count()))"
      ]
    },
    {
      "cell_type": "markdown",
      "metadata": {
        "id": "ucypG4FDnpZM"
      },
      "source": [
        "#### .leftOuterJoin(...)"
      ]
    },
    {
      "cell_type": "markdown",
      "metadata": {
        "id": "RRVRQs_bnpZM"
      },
      "source": [
        "Left outer join, just like the SQL world, joins two RDDs based on the values found in both datasets, and returns records from the left RDD with records from the right one appended where the two RDDs match."
      ]
    },
    {
      "cell_type": "code",
      "execution_count": null,
      "metadata": {
        "colab": {
          "background_save": true
        },
        "id": "kd2Y97_4npZN"
      },
      "outputs": [],
      "source": [
        "rdd1 = sc.parallelize([('a', 1), ('b', 4), ('c',10)])\n",
        "rdd2 = sc.parallelize([('a', 4), ('a', 1), ('b', '6'), ('d', 15)])\n",
        "\n",
        "rdd3 = rdd1.leftOuterJoin(rdd2)\n",
        "rdd3.take(5)"
      ]
    },
    {
      "cell_type": "markdown",
      "metadata": {
        "id": "u11bed_enpZN"
      },
      "source": [
        "If we used `.join(...)` method instead we would have gotten only the values for `'a'` and `'b'` as these two values intersect between these two RDDs."
      ]
    },
    {
      "cell_type": "code",
      "execution_count": null,
      "metadata": {
        "id": "EWO7SJMDnpZN"
      },
      "outputs": [],
      "source": [
        "rdd4 = rdd1.join(rdd2)\n",
        "rdd4.collect()"
      ]
    },
    {
      "cell_type": "markdown",
      "metadata": {
        "id": "XBdq6V0onpZO"
      },
      "source": [
        "Another useful method is the `.intersection(...)` that returns the records that are *equal* in both RDDs."
      ]
    },
    {
      "cell_type": "code",
      "execution_count": null,
      "metadata": {
        "id": "FiVw-LAOnpZO"
      },
      "outputs": [],
      "source": [
        "rdd5 = rdd1.intersection(rdd2)\n",
        "rdd5.collect()"
      ]
    },
    {
      "cell_type": "markdown",
      "metadata": {
        "id": "Z8621Q4dnpZO"
      },
      "source": [
        "#### .repartition(...)"
      ]
    },
    {
      "cell_type": "markdown",
      "metadata": {
        "id": "oxNPGPtynpZO"
      },
      "source": [
        "Repartitioning the dataset changes the number of partitions the dataset is divided into."
      ]
    },
    {
      "cell_type": "code",
      "execution_count": null,
      "metadata": {
        "id": "2SuvkBTFnpZO"
      },
      "outputs": [],
      "source": [
        "rdd1 = rdd1.repartition(4)\n",
        "\n",
        "len(rdd1.glom().collect())"
      ]
    },
    {
      "cell_type": "code",
      "execution_count": null,
      "metadata": {
        "id": "E9V96EqN3nc4"
      },
      "outputs": [],
      "source": [
        "type(rdd1)"
      ]
    },
    {
      "cell_type": "markdown",
      "metadata": {
        "id": "Mrm8YRjNnpZP"
      },
      "source": [
        "### Actions"
      ]
    },
    {
      "cell_type": "markdown",
      "metadata": {
        "id": "mdOlvXBrnpZP"
      },
      "source": [
        "#### .take(...)"
      ]
    },
    {
      "cell_type": "markdown",
      "metadata": {
        "id": "-45iTbYGnpZP"
      },
      "source": [
        "The method returns `n` top rows from a single data partition."
      ]
    },
    {
      "cell_type": "code",
      "execution_count": null,
      "metadata": {
        "id": "s17B7gBqnpZP"
      },
      "outputs": [],
      "source": [
        "data_first = data_from_file_conv.take(1)\n",
        "data_first"
      ]
    },
    {
      "cell_type": "markdown",
      "metadata": {
        "id": "MszuVvCDnpZP"
      },
      "source": [
        "If you want somewhat randomized records you can use `.takeSample(...)` instead."
      ]
    },
    {
      "cell_type": "code",
      "execution_count": null,
      "metadata": {
        "id": "hmKdjz3EnpZP"
      },
      "outputs": [],
      "source": [
        "data_take_sampled = data_from_file_conv.takeSample(False, 1, 667)\n",
        "data_take_sampled"
      ]
    },
    {
      "cell_type": "markdown",
      "metadata": {
        "id": "q8zBPrIWnpZQ"
      },
      "source": [
        "#### .reduce(...)"
      ]
    },
    {
      "cell_type": "markdown",
      "metadata": {
        "id": "UikSt49-npZQ"
      },
      "source": [
        "Another action that processes your data, the `.reduce(...)` method *reduces* the elements of an RDD using a specified method."
      ]
    },
    {
      "cell_type": "code",
      "execution_count": null,
      "metadata": {
        "id": "9VvwOerAnpZQ"
      },
      "outputs": [],
      "source": [
        "rdd1.map(lambda row: row[1]).reduce(lambda x, y: x + y)"
      ]
    },
    {
      "cell_type": "markdown",
      "metadata": {
        "id": "45lMYV6gnpZQ"
      },
      "source": [
        "If the reducing function is not associative and commutative you will sometimes get wrong results depending how your data is partitioned."
      ]
    },
    {
      "cell_type": "code",
      "execution_count": null,
      "metadata": {
        "id": "fkBrrDzPnpZQ"
      },
      "outputs": [],
      "source": [
        "data_reduce = sc.parallelize([1, 2, .5, .1, 5, .2], 1)"
      ]
    },
    {
      "cell_type": "markdown",
      "metadata": {
        "id": "P2oMLZklnpZR"
      },
      "source": [
        "I we were to reduce the data in a manner that we would like to *divide* the current result by the subsequent one, we would expect a value of 10"
      ]
    },
    {
      "cell_type": "code",
      "execution_count": null,
      "metadata": {
        "id": "LcbggMrInpZR"
      },
      "outputs": [],
      "source": [
        "works = data_reduce.reduce(lambda x, y: x / y)\n",
        "works"
      ]
    },
    {
      "cell_type": "markdown",
      "metadata": {
        "id": "855xFUZlnpZR"
      },
      "source": [
        "However, if you were to partition the data into 3 partitions, the result will be wrong."
      ]
    },
    {
      "cell_type": "code",
      "execution_count": null,
      "metadata": {
        "id": "AcukesJenpZR"
      },
      "outputs": [],
      "source": [
        "data_reduce = sc.parallelize([1, 2, .5, .1, 5, .2], 3)\n",
        "data_reduce.reduce(lambda x, y: x / y)"
      ]
    },
    {
      "cell_type": "markdown",
      "metadata": {
        "id": "_RUAfpFnnpZR"
      },
      "source": [
        "The `.reduceByKey(...)` method works in a similar way to the `.reduce(...)` method but performs a reduction on a key-by-key basis."
      ]
    },
    {
      "cell_type": "code",
      "execution_count": null,
      "metadata": {
        "id": "l47PyqmhnpZR"
      },
      "outputs": [],
      "source": [
        "data_key = sc.parallelize([('a', 4),('b', 3),('c', 2),('a', 8),('d', 2),('b', 1),('d', 3)],4)\n",
        "data_key.reduceByKey(lambda x, y: x + y).collect()"
      ]
    },
    {
      "cell_type": "markdown",
      "metadata": {
        "id": "F0elxcKnnpZS"
      },
      "source": [
        "#### .count()"
      ]
    },
    {
      "cell_type": "markdown",
      "metadata": {
        "id": "vPayZZ2pnpZS"
      },
      "source": [
        "The `.count()` method counts the number of elements in the RDD."
      ]
    },
    {
      "cell_type": "code",
      "execution_count": null,
      "metadata": {
        "id": "U68jsKcAnpZS"
      },
      "outputs": [],
      "source": [
        "data_reduce.count()"
      ]
    },
    {
      "cell_type": "markdown",
      "metadata": {
        "id": "veT_0MZInpZS"
      },
      "source": [
        "It has the same effect as the method below but does not require shifting the data to the driver."
      ]
    },
    {
      "cell_type": "code",
      "execution_count": null,
      "metadata": {
        "id": "egS-EHh0npZS"
      },
      "outputs": [],
      "source": [
        "len(data_reduce.collect()) # WRONG -- DON'T DO THIS!"
      ]
    },
    {
      "cell_type": "markdown",
      "metadata": {
        "id": "Cb7Y-q3unpZT"
      },
      "source": [
        "If your dataset is in a form of a *key-value* you can use the `.countByKey()` method to get the counts of distinct keys."
      ]
    },
    {
      "cell_type": "code",
      "execution_count": null,
      "metadata": {
        "id": "A_rkyjQFnpZT"
      },
      "outputs": [],
      "source": [
        "data_key.countByKey().items()"
      ]
    },
    {
      "cell_type": "markdown",
      "metadata": {
        "id": "7KzbHyl-npZT"
      },
      "source": [
        "#### .saveAsTextFile(...)"
      ]
    },
    {
      "cell_type": "markdown",
      "metadata": {
        "id": "g61MUgMNnpZT"
      },
      "source": [
        "As the name suggests, the `.saveAsTextFile()` the RDD and saves it to text files: each partition to a separate file."
      ]
    },
    {
      "cell_type": "code",
      "execution_count": null,
      "metadata": {
        "id": "s0k3hQDLnpZT"
      },
      "outputs": [],
      "source": [
        "data_key.saveAsTextFile('/Users/drabast/Documents/PySpark_Data/data_key.txt')"
      ]
    },
    {
      "cell_type": "markdown",
      "metadata": {
        "id": "P82mcjq-npZT"
      },
      "source": [
        "To read it back, you need to parse it back as, as before, all the rows are treated as strings."
      ]
    },
    {
      "cell_type": "code",
      "execution_count": null,
      "metadata": {
        "id": "qGnN57H5npZU"
      },
      "outputs": [],
      "source": [
        "def parseInput(row):\n",
        "    import re\n",
        "\n",
        "    pattern = re.compile(r'\\(\\'([a-z])\\', ([0-9])\\)')\n",
        "    row_split = pattern.split(row)\n",
        "\n",
        "    return (row_split[1], int(row_split[2]))\n",
        "\n",
        "data_key_reread = sc \\\n",
        "    .textFile('/Users/drabast/Documents/PySpark_Data/data_key.txt') \\\n",
        "    .map(parseInput)\n",
        "data_key_reread.collect()"
      ]
    },
    {
      "cell_type": "markdown",
      "metadata": {
        "id": "Z50Me1yenpZU"
      },
      "source": [
        "**.foreach(...)**"
      ]
    },
    {
      "cell_type": "markdown",
      "metadata": {
        "id": "vIJvfP1MnpZU"
      },
      "source": [
        "A method that applies the same function to each element of the RDD in an iterative way."
      ]
    },
    {
      "cell_type": "code",
      "execution_count": null,
      "metadata": {
        "id": "e2Bk9zGBnpZV"
      },
      "outputs": [],
      "source": [
        "def f(x):\n",
        "    print(x)\n",
        "\n",
        "data_key.foreach(f)"
      ]
    }
  ],
  "metadata": {
    "colab": {
      "provenance": []
    },
    "kernelspec": {
      "display_name": "Python 3",
      "name": "python3"
    },
    "language_info": {
      "codemirror_mode": {
        "name": "ipython",
        "version": 3
      },
      "file_extension": ".py",
      "mimetype": "text/x-python",
      "name": "python",
      "nbconvert_exporter": "python",
      "pygments_lexer": "ipython3",
      "version": "3.5.2"
    }
  },
  "nbformat": 4,
  "nbformat_minor": 0
}
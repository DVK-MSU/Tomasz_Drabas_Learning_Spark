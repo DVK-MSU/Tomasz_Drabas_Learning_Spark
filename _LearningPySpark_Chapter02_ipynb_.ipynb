{
  "cells": [
    {
      "cell_type": "code",
      "source": [
        "! pip install pyspark"
      ],
      "metadata": {
        "id": "Tseba_PGp4UQ",
        "outputId": "a93d82f8-c4b9-4038-f6bd-648575be103b",
        "colab": {
          "base_uri": "https://localhost:8080/"
        }
      },
      "execution_count": 1,
      "outputs": [
        {
          "output_type": "stream",
          "name": "stdout",
          "text": [
            "Requirement already satisfied: pyspark in /usr/local/lib/python3.10/dist-packages (3.4.1)\n",
            "Requirement already satisfied: py4j==0.10.9.7 in /usr/local/lib/python3.10/dist-packages (from pyspark) (0.10.9.7)\n"
          ]
        }
      ]
    },
    {
      "cell_type": "code",
      "source": [
        "from pyspark import SparkConf, SparkContext\n",
        "import pandas as pd\n",
        "\n",
        "# Создаем экземпляр SparkConf и настраиваем его\n",
        "conf = SparkConf()\n",
        "conf.setAppName(\"SparkSession\")\n",
        "conf.setMaster(\"local[*]\")\n",
        "conf.set(\"spark.executor.memory\", \"4g\") # память для выполнения запросов\n",
        "conf.set(\"spark.executor.cores\", \"2\") # количество ядер процессора\n",
        "\n",
        "# Запускаем Spark на порту 3000\n",
        "sc = SparkContext(conf=conf)\n"
      ],
      "metadata": {
        "id": "9C9OctIRp1mH"
      },
      "execution_count": 2,
      "outputs": []
    },
    {
      "cell_type": "markdown",
      "metadata": {
        "id": "uQPTsfXrnpYv"
      },
      "source": [
        "# Chapter 3 - Learning PySpark\n",
        "## Resilient Distributed Datasets"
      ]
    },
    {
      "cell_type": "markdown",
      "metadata": {
        "id": "4G9kt2cVnpYz"
      },
      "source": [
        "### Создание RDDs"
      ]
    },
    {
      "cell_type": "markdown",
      "metadata": {
        "id": "qEsd8BIXnpY0"
      },
      "source": [
        "Существует 2 способа создания RDD в PySpark. <p>1) Вы можете применить метод parallelize к списку:</p>"
      ]
    },
    {
      "cell_type": "code",
      "execution_count": 3,
      "metadata": {
        "collapsed": true,
        "id": "jTb7c1fFnpY0"
      },
      "outputs": [],
      "source": [
        "data = sc.parallelize(\n",
        "    [('Amber', 22), ('Alfred', 23), ('Skye',4), ('Albert', 12),\n",
        "     ('Amber', 9)])"
      ]
    },
    {
      "cell_type": "code",
      "source": [
        "own_data = [('Key_1', 'Value_1'), ('Key_2', 'Value_2')] #создали свой список из кортежей\n",
        "rdd_own_data = sc.parallelize(own_data) #преобразовали список в rdd-коллекцию"
      ],
      "metadata": {
        "id": "udW0k4hJ8vBF"
      },
      "execution_count": 4,
      "outputs": []
    },
    {
      "cell_type": "markdown",
      "source": [
        "Проверяем типы данных"
      ],
      "metadata": {
        "id": "0zaY-MFn4OYT"
      }
    },
    {
      "cell_type": "code",
      "source": [
        "print(type(data))\n",
        "print(type(rdd_own_data))"
      ],
      "metadata": {
        "id": "4PmbSLPt4LRY",
        "outputId": "0a77b2ae-290d-447e-e5c0-07a7507494b3",
        "colab": {
          "base_uri": "https://localhost:8080/"
        }
      },
      "execution_count": 5,
      "outputs": [
        {
          "output_type": "stream",
          "name": "stdout",
          "text": [
            "<class 'pyspark.rdd.RDD'>\n",
            "<class 'pyspark.rdd.RDD'>\n"
          ]
        }
      ]
    },
    {
      "cell_type": "code",
      "source": [
        "from google.colab import drive\n",
        "drive.mount('/content/drive')"
      ],
      "metadata": {
        "id": "9WExlGHe-HIQ",
        "outputId": "4355341c-8e29-46c4-c9ed-000e0ed06a8f",
        "colab": {
          "base_uri": "https://localhost:8080/"
        }
      },
      "execution_count": 6,
      "outputs": [
        {
          "output_type": "stream",
          "name": "stdout",
          "text": [
            "Mounted at /content/drive\n"
          ]
        }
      ]
    },
    {
      "cell_type": "markdown",
      "metadata": {
        "id": "mpqQlb-KnpY2"
      },
      "source": [
        "2) можно получить rdd-коллекцию из файла"
      ]
    },
    {
      "cell_type": "code",
      "execution_count": 7,
      "metadata": {
        "collapsed": true,
        "id": "6ZDPr3YYnpY2"
      },
      "outputs": [],
      "source": [
        "data_from_file = sc.\\\n",
        "    textFile(\n",
        "        '/content/drive/MyDrive/Spark_training/VS14MORT.txt.gz',\n",
        "        4)"
      ]
    },
    {
      "cell_type": "code",
      "source": [
        "!pip install googletrans==4.0.0-rc1"
      ],
      "metadata": {
        "id": "JFTfQ6V8-o0T",
        "outputId": "8133ffd2-2021-46a5-e589-2ff84f8fa11a",
        "colab": {
          "base_uri": "https://localhost:8080/"
        }
      },
      "execution_count": 8,
      "outputs": [
        {
          "output_type": "stream",
          "name": "stdout",
          "text": [
            "Collecting googletrans==4.0.0-rc1\n",
            "  Downloading googletrans-4.0.0rc1.tar.gz (20 kB)\n",
            "  Preparing metadata (setup.py) ... \u001b[?25l\u001b[?25hdone\n",
            "Collecting httpx==0.13.3 (from googletrans==4.0.0-rc1)\n",
            "  Downloading httpx-0.13.3-py3-none-any.whl (55 kB)\n",
            "\u001b[2K     \u001b[90m━━━━━━━━━━━━━━━━━━━━━━━━━━━━━━━━━━━━━━━━\u001b[0m \u001b[32m55.1/55.1 kB\u001b[0m \u001b[31m1.2 MB/s\u001b[0m eta \u001b[36m0:00:00\u001b[0m\n",
            "\u001b[?25hRequirement already satisfied: certifi in /usr/local/lib/python3.10/dist-packages (from httpx==0.13.3->googletrans==4.0.0-rc1) (2023.7.22)\n",
            "Collecting hstspreload (from httpx==0.13.3->googletrans==4.0.0-rc1)\n",
            "  Downloading hstspreload-2023.1.1-py3-none-any.whl (1.5 MB)\n",
            "\u001b[2K     \u001b[90m━━━━━━━━━━━━━━━━━━━━━━━━━━━━━━━━━━━━━━━━\u001b[0m \u001b[32m1.5/1.5 MB\u001b[0m \u001b[31m25.2 MB/s\u001b[0m eta \u001b[36m0:00:00\u001b[0m\n",
            "\u001b[?25hRequirement already satisfied: sniffio in /usr/local/lib/python3.10/dist-packages (from httpx==0.13.3->googletrans==4.0.0-rc1) (1.3.0)\n",
            "Collecting chardet==3.* (from httpx==0.13.3->googletrans==4.0.0-rc1)\n",
            "  Downloading chardet-3.0.4-py2.py3-none-any.whl (133 kB)\n",
            "\u001b[2K     \u001b[90m━━━━━━━━━━━━━━━━━━━━━━━━━━━━━━━━━━━━━━━\u001b[0m \u001b[32m133.4/133.4 kB\u001b[0m \u001b[31m9.9 MB/s\u001b[0m eta \u001b[36m0:00:00\u001b[0m\n",
            "\u001b[?25hCollecting idna==2.* (from httpx==0.13.3->googletrans==4.0.0-rc1)\n",
            "  Downloading idna-2.10-py2.py3-none-any.whl (58 kB)\n",
            "\u001b[2K     \u001b[90m━━━━━━━━━━━━━━━━━━━━━━━━━━━━━━━━━━━━━━━━\u001b[0m \u001b[32m58.8/58.8 kB\u001b[0m \u001b[31m7.3 MB/s\u001b[0m eta \u001b[36m0:00:00\u001b[0m\n",
            "\u001b[?25hCollecting rfc3986<2,>=1.3 (from httpx==0.13.3->googletrans==4.0.0-rc1)\n",
            "  Downloading rfc3986-1.5.0-py2.py3-none-any.whl (31 kB)\n",
            "Collecting httpcore==0.9.* (from httpx==0.13.3->googletrans==4.0.0-rc1)\n",
            "  Downloading httpcore-0.9.1-py3-none-any.whl (42 kB)\n",
            "\u001b[2K     \u001b[90m━━━━━━━━━━━━━━━━━━━━━━━━━━━━━━━━━━━━━━━━\u001b[0m \u001b[32m42.6/42.6 kB\u001b[0m \u001b[31m3.7 MB/s\u001b[0m eta \u001b[36m0:00:00\u001b[0m\n",
            "\u001b[?25hCollecting h11<0.10,>=0.8 (from httpcore==0.9.*->httpx==0.13.3->googletrans==4.0.0-rc1)\n",
            "  Downloading h11-0.9.0-py2.py3-none-any.whl (53 kB)\n",
            "\u001b[2K     \u001b[90m━━━━━━━━━━━━━━━━━━━━━━━━━━━━━━━━━━━━━━━━\u001b[0m \u001b[32m53.6/53.6 kB\u001b[0m \u001b[31m5.9 MB/s\u001b[0m eta \u001b[36m0:00:00\u001b[0m\n",
            "\u001b[?25hCollecting h2==3.* (from httpcore==0.9.*->httpx==0.13.3->googletrans==4.0.0-rc1)\n",
            "  Downloading h2-3.2.0-py2.py3-none-any.whl (65 kB)\n",
            "\u001b[2K     \u001b[90m━━━━━━━━━━━━━━━━━━━━━━━━━━━━━━━━━━━━━━━━\u001b[0m \u001b[32m65.0/65.0 kB\u001b[0m \u001b[31m4.4 MB/s\u001b[0m eta \u001b[36m0:00:00\u001b[0m\n",
            "\u001b[?25hCollecting hyperframe<6,>=5.2.0 (from h2==3.*->httpcore==0.9.*->httpx==0.13.3->googletrans==4.0.0-rc1)\n",
            "  Downloading hyperframe-5.2.0-py2.py3-none-any.whl (12 kB)\n",
            "Collecting hpack<4,>=3.0 (from h2==3.*->httpcore==0.9.*->httpx==0.13.3->googletrans==4.0.0-rc1)\n",
            "  Downloading hpack-3.0.0-py2.py3-none-any.whl (38 kB)\n",
            "Building wheels for collected packages: googletrans\n",
            "  Building wheel for googletrans (setup.py) ... \u001b[?25l\u001b[?25hdone\n",
            "  Created wheel for googletrans: filename=googletrans-4.0.0rc1-py3-none-any.whl size=17396 sha256=38bf8142cd1e0448aa65d347451eb80028c84a9a85bfe0c7f72274fbb3306ae7\n",
            "  Stored in directory: /root/.cache/pip/wheels/c0/59/9f/7372f0cf70160fe61b528532e1a7c8498c4becd6bcffb022de\n",
            "Successfully built googletrans\n",
            "Installing collected packages: rfc3986, hyperframe, hpack, h11, chardet, idna, hstspreload, h2, httpcore, httpx, googletrans\n",
            "  Attempting uninstall: chardet\n",
            "    Found existing installation: chardet 5.2.0\n",
            "    Uninstalling chardet-5.2.0:\n",
            "      Successfully uninstalled chardet-5.2.0\n",
            "  Attempting uninstall: idna\n",
            "    Found existing installation: idna 3.4\n",
            "    Uninstalling idna-3.4:\n",
            "      Successfully uninstalled idna-3.4\n",
            "Successfully installed chardet-3.0.4 googletrans-4.0.0rc1 h11-0.9.0 h2-3.2.0 hpack-3.0.0 hstspreload-2023.1.1 httpcore-0.9.1 httpx-0.13.3 hyperframe-5.2.0 idna-2.10 rfc3986-1.5.0\n"
          ]
        }
      ]
    },
    {
      "cell_type": "code",
      "source": [
        "def translate(text, language='ru'):\n",
        "    from googletrans import Translator\n",
        "\n",
        "    # Создание экземпляра класса Translator\n",
        "    translator = Translator()\n",
        "\n",
        "    # Пример использования переводчика\n",
        "\n",
        "    translated_text = translator.translate(text, dest=language)\n",
        "\n",
        "    # Вывод переведенного текста\n",
        "    print(translated_text.text)"
      ],
      "metadata": {
        "id": "fs5dLtiHDpKX"
      },
      "execution_count": 9,
      "outputs": []
    },
    {
      "cell_type": "markdown",
      "source": [],
      "metadata": {
        "id": "d32OJsv6sdOp"
      }
    },
    {
      "cell_type": "code",
      "source": [
        "translate('Fetch Immediately', language='ru')"
      ],
      "metadata": {
        "id": "Bit95nP6EYpK",
        "outputId": "2f8ab3ec-9e89-493b-b5bb-6922ac4ae928",
        "colab": {
          "base_uri": "https://localhost:8080/"
        }
      },
      "execution_count": 98,
      "outputs": [
        {
          "output_type": "stream",
          "name": "stdout",
          "text": [
            "Сразу же\n"
          ]
        }
      ]
    },
    {
      "cell_type": "markdown",
      "metadata": {
        "id": "TLwDLakonpY2"
      },
      "source": [
        "Note, that to execute the code above you will have to change the path where the data is stored. The dataset can be downloaded from http://tomdrabas.com/data/VS14MORT.txt.gz"
      ]
    },
    {
      "cell_type": "markdown",
      "metadata": {
        "id": "oSHUy9ECnpY3"
      },
      "source": [
        "#### Schema"
      ]
    },
    {
      "cell_type": "markdown",
      "metadata": {
        "id": "-u4o0edJnpY3"
      },
      "source": [
        "RDDs - это не структурированный способ хранения данных"
      ]
    },
    {
      "cell_type": "code",
      "execution_count": 11,
      "metadata": {
        "id": "U9FlnxUMnpY4",
        "outputId": "29d667ba-97f5-4050-b904-ea5c902f0be5",
        "colab": {
          "base_uri": "https://localhost:8080/"
        }
      },
      "outputs": [
        {
          "output_type": "execute_result",
          "data": {
            "text/plain": [
              "[('Ferrari', 'fast'), {'Porsche': 100000}, ['Spain', 'visited', 4504]]"
            ]
          },
          "metadata": {},
          "execution_count": 11
        }
      ],
      "source": [
        "data_heterogenous = sc.parallelize([('Ferrari', 'fast'), {'Porsche': 100000},\n",
        "                                    ['Spain','visited', 4504]]).collect()\n",
        "data_heterogenous"
      ]
    },
    {
      "cell_type": "markdown",
      "metadata": {
        "id": "MRLCoVbenpY5"
      },
      "source": [
        "Вы можете получить доступ к данным в объекте, как это обычно делаете в Python"
      ]
    },
    {
      "cell_type": "code",
      "execution_count": 12,
      "metadata": {
        "id": "wZm211AQnpY5",
        "outputId": "8f0f34da-34cc-455e-9b0a-a6af1e834a42",
        "colab": {
          "base_uri": "https://localhost:8080/"
        }
      },
      "outputs": [
        {
          "output_type": "execute_result",
          "data": {
            "text/plain": [
              "100000"
            ]
          },
          "metadata": {},
          "execution_count": 12
        }
      ],
      "source": [
        "data_heterogenous[1]['Porsche'] #из списка извлекли элемент №1 (это {'Porsche': 100000}).\n",
        "# И обратились к нему по ключу 'Porsche'"
      ]
    },
    {
      "cell_type": "code",
      "source": [
        "data_heterogenous[0][1]"
      ],
      "metadata": {
        "id": "-bpEj4woHc8Y",
        "outputId": "6ea69ab4-f5c7-4c48-865e-1e6501245096",
        "colab": {
          "base_uri": "https://localhost:8080/",
          "height": 36
        }
      },
      "execution_count": 13,
      "outputs": [
        {
          "output_type": "execute_result",
          "data": {
            "text/plain": [
              "'fast'"
            ],
            "application/vnd.google.colaboratory.intrinsic+json": {
              "type": "string"
            }
          },
          "metadata": {},
          "execution_count": 13
        }
      ]
    },
    {
      "cell_type": "code",
      "source": [
        "data_heterogenous[2][1]"
      ],
      "metadata": {
        "id": "d2lCxpp6H3d7",
        "outputId": "0e8399f8-5495-4234-bed7-2e015a09df13",
        "colab": {
          "base_uri": "https://localhost:8080/",
          "height": 36
        }
      },
      "execution_count": 14,
      "outputs": [
        {
          "output_type": "execute_result",
          "data": {
            "text/plain": [
              "'visited'"
            ],
            "application/vnd.google.colaboratory.intrinsic+json": {
              "type": "string"
            }
          },
          "metadata": {},
          "execution_count": 14
        }
      ]
    },
    {
      "cell_type": "markdown",
      "metadata": {
        "id": "jHPHSKGrnpY5"
      },
      "source": [
        "#### Чтение из файлов"
      ]
    },
    {
      "cell_type": "markdown",
      "metadata": {
        "id": "s8JIZhOlnpY5"
      },
      "source": [
        "Когда вы читаете из текстового файла, каждая строка из файла образует элемент RDD."
      ]
    },
    {
      "cell_type": "code",
      "execution_count": 22,
      "metadata": {
        "id": "Funpzev7npY6",
        "outputId": "498451b8-3c19-47cc-c85d-7ea7cb59d24c",
        "colab": {
          "base_uri": "https://localhost:8080/"
        }
      },
      "outputs": [
        {
          "output_type": "execute_result",
          "data": {
            "text/plain": [
              "['                   1                                          2101  M1087 432311  4M4                2014U7CN                                    I64 238 070   24 0111I64                                                                                                                                                                           01 I64                                                                                                  01  11                                 100 601']"
            ]
          },
          "metadata": {},
          "execution_count": 22
        }
      ],
      "source": [
        "data_from_file.take(1)"
      ]
    },
    {
      "cell_type": "markdown",
      "metadata": {
        "id": "xr_PqsitnpY6"
      },
      "source": [
        "#### Пользовательские функции"
      ]
    },
    {
      "cell_type": "markdown",
      "metadata": {
        "id": "qDgRyi9DnpY6"
      },
      "source": [
        "Вы можете создать более длинный метод для преобразования ваших данных вместо использования выражения Lambda."
      ]
    },
    {
      "cell_type": "code",
      "execution_count": 29,
      "metadata": {
        "id": "TSH2g9-0npY6"
      },
      "outputs": [],
      "source": [
        "def extractInformation(row):\n",
        "    import re\n",
        "    import numpy as np\n",
        "\n",
        "    selected_indices = [\n",
        "         2,4,5,6,7,9,10,11,12,13,14,15,16,17,18,\n",
        "         19,21,22,23,24,25,27,28,29,30,32,33,34,\n",
        "         36,37,38,39,40,41,42,43,44,45,46,47,48,\n",
        "         49,50,51,52,53,54,55,56,58,60,61,62,63,\n",
        "         64,65,66,67,68,69,70,71,72,73,74,75,76,\n",
        "         77,78,79,81,82,83,84,85,87,89\n",
        "    ]\n",
        "\n",
        "    '''\n",
        "        Input record schema\n",
        "        schema: n-m (o) -- xxx\n",
        "            n - position from\n",
        "            m - position to\n",
        "            o - number of characters\n",
        "            xxx - description\n",
        "        1. 1-19 (19) -- reserved positions\n",
        "        2. 20 (1) -- resident status\n",
        "        3. 21-60 (40) -- reserved positions\n",
        "        4. 61-62 (2) -- education code (1989 revision)\n",
        "        5. 63 (1) -- education code (2003 revision)\n",
        "        6. 64 (1) -- education reporting flag\n",
        "        7. 65-66 (2) -- month of death\n",
        "        8. 67-68 (2) -- reserved positions\n",
        "        9. 69 (1) -- sex\n",
        "        10. 70 (1) -- age: 1-years, 2-months, 4-days, 5-hours, 6-minutes, 9-not stated\n",
        "        11. 71-73 (3) -- number of units (years, months etc)\n",
        "        12. 74 (1) -- age substitution flag (if the age reported in positions 70-74 is calculated using dates of birth and death)\n",
        "        13. 75-76 (2) -- age recoded into 52 categories\n",
        "        14. 77-78 (2) -- age recoded into 27 categories\n",
        "        15. 79-80 (2) -- age recoded into 12 categories\n",
        "        16. 81-82 (2) -- infant age recoded into 22 categories\n",
        "        17. 83 (1) -- place of death\n",
        "        18. 84 (1) -- marital status\n",
        "        19. 85 (1) -- day of the week of death\n",
        "        20. 86-101 (16) -- reserved positions\n",
        "        21. 102-105 (4) -- current year\n",
        "        22. 106 (1) -- injury at work\n",
        "        23. 107 (1) -- manner of death\n",
        "        24. 108 (1) -- manner of disposition\n",
        "        25. 109 (1) -- autopsy\n",
        "        26. 110-143 (34) -- reserved positions\n",
        "        27. 144 (1) -- activity code\n",
        "        28. 145 (1) -- place of injury\n",
        "        29. 146-149 (4) -- ICD code\n",
        "        30. 150-152 (3) -- 358 cause recode\n",
        "        31. 153 (1) -- reserved position\n",
        "        32. 154-156 (3) -- 113 cause recode\n",
        "        33. 157-159 (3) -- 130 infant cause recode\n",
        "        34. 160-161 (2) -- 39 cause recode\n",
        "        35. 162 (1) -- reserved position\n",
        "        36. 163-164 (2) -- number of entity-axis conditions\n",
        "        37-56. 165-304 (140) -- list of up to 20 conditions\n",
        "        57. 305-340 (36) -- reserved positions\n",
        "        58. 341-342 (2) -- number of record axis conditions\n",
        "        59. 343 (1) -- reserved position\n",
        "        60-79. 344-443 (100) -- record axis conditions\n",
        "        80. 444 (1) -- reserve position\n",
        "        81. 445-446 (2) -- race\n",
        "        82. 447 (1) -- bridged race flag\n",
        "        83. 448 (1) -- race imputation flag\n",
        "        84. 449 (1) -- race recode (3 categories)\n",
        "        85. 450 (1) -- race recode (5 categories)\n",
        "        86. 461-483 (33) -- reserved positions\n",
        "        87. 484-486 (3) -- Hispanic origin\n",
        "        88. 487 (1) -- reserved\n",
        "        89. 488 (1) -- Hispanic origin/race recode\n",
        "     '''\n",
        "\n",
        "    record_split = re\\\n",
        "        .compile(\n",
        "            r'([\\s]{19})([0-9]{1})([\\s]{40})([0-9\\s]{2})([0-9\\s]{1})([0-9]{1})([0-9]{2})' +\n",
        "            r'([\\s]{2})([FM]{1})([0-9]{1})([0-9]{3})([0-9\\s]{1})([0-9]{2})([0-9]{2})' +\n",
        "            r'([0-9]{2})([0-9\\s]{2})([0-9]{1})([SMWDU]{1})([0-9]{1})([\\s]{16})([0-9]{4})' +\n",
        "            r'([YNU]{1})([0-9\\s]{1})([BCOU]{1})([YNU]{1})([\\s]{34})([0-9\\s]{1})([0-9\\s]{1})' +\n",
        "            r'([A-Z0-9\\s]{4})([0-9]{3})([\\s]{1})([0-9\\s]{3})([0-9\\s]{3})([0-9\\s]{2})([\\s]{1})' +\n",
        "            r'([0-9\\s]{2})([A-Z0-9\\s]{7})([A-Z0-9\\s]{7})([A-Z0-9\\s]{7})([A-Z0-9\\s]{7})' +\n",
        "            r'([A-Z0-9\\s]{7})([A-Z0-9\\s]{7})([A-Z0-9\\s]{7})([A-Z0-9\\s]{7})([A-Z0-9\\s]{7})' +\n",
        "            r'([A-Z0-9\\s]{7})([A-Z0-9\\s]{7})([A-Z0-9\\s]{7})([A-Z0-9\\s]{7})([A-Z0-9\\s]{7})' +\n",
        "            r'([A-Z0-9\\s]{7})([A-Z0-9\\s]{7})([A-Z0-9\\s]{7})([A-Z0-9\\s]{7})([A-Z0-9\\s]{7})' +\n",
        "            r'([A-Z0-9\\s]{7})([\\s]{36})([A-Z0-9\\s]{2})([\\s]{1})([A-Z0-9\\s]{5})([A-Z0-9\\s]{5})' +\n",
        "            r'([A-Z0-9\\s]{5})([A-Z0-9\\s]{5})([A-Z0-9\\s]{5})([A-Z0-9\\s]{5})([A-Z0-9\\s]{5})' +\n",
        "            r'([A-Z0-9\\s]{5})([A-Z0-9\\s]{5})([A-Z0-9\\s]{5})([A-Z0-9\\s]{5})([A-Z0-9\\s]{5})' +\n",
        "            r'([A-Z0-9\\s]{5})([A-Z0-9\\s]{5})([A-Z0-9\\s]{5})([A-Z0-9\\s]{5})([A-Z0-9\\s]{5})' +\n",
        "            r'([A-Z0-9\\s]{5})([A-Z0-9\\s]{5})([A-Z0-9\\s]{5})([\\s]{1})([0-9\\s]{2})([0-9\\s]{1})' +\n",
        "            r'([0-9\\s]{1})([0-9\\s]{1})([0-9\\s]{1})([\\s]{33})([0-9\\s]{3})([0-9\\s]{1})([0-9\\s]{1})')\n",
        "    try:\n",
        "        rs = np.array(record_split.split(row))[selected_indices]\n",
        "    except:\n",
        "        rs = np.array(['-99'] * len(selected_indices))\n",
        "    return rs\n",
        "#     return record_split.split(row)"
      ]
    },
    {
      "cell_type": "markdown",
      "metadata": {
        "id": "HPxn6ReLnpY8"
      },
      "source": [
        "<br>Теперь, вместо использования Lambda, мы будем <br>использовать метод extractInformation(...) для <br>разделения и преобразования нашего набора данных.\n"
      ]
    },
    {
      "cell_type": "code",
      "execution_count": 33,
      "metadata": {
        "id": "zZHL4ukcnpY8",
        "outputId": "439ac5cb-931e-4aa2-e509-38fe4b4bb711",
        "colab": {
          "base_uri": "https://localhost:8080/"
        }
      },
      "outputs": [
        {
          "output_type": "execute_result",
          "data": {
            "text/plain": [
              "[array(['1', '  ', '2', '1', '01', 'M', '1', '087', ' ', '43', '23', '11',\n",
              "        '  ', '4', 'M', '4', '2014', 'U', '7', 'C', 'N', ' ', ' ', 'I64 ',\n",
              "        '238', '070', '   ', '24', '01', '11I64  ', '       ', '       ',\n",
              "        '       ', '       ', '       ', '       ', '       ', '       ',\n",
              "        '       ', '       ', '       ', '       ', '       ', '       ',\n",
              "        '       ', '       ', '       ', '       ', '       ', '01',\n",
              "        'I64  ', '     ', '     ', '     ', '     ', '     ', '     ',\n",
              "        '     ', '     ', '     ', '     ', '     ', '     ', '     ',\n",
              "        '     ', '     ', '     ', '     ', '     ', '     ', '01', ' ',\n",
              "        ' ', '1', '1', '100', '6'], dtype='<U40')]"
            ]
          },
          "metadata": {},
          "execution_count": 33
        }
      ],
      "source": [
        "data_from_file_conv = data_from_file.map(extractInformation)\n",
        "data_from_file_conv.map(lambda row: row).take(1)"
      ]
    },
    {
      "cell_type": "markdown",
      "metadata": {
        "id": "6My_dbXynpY8"
      },
      "source": [
        "### Преобразования"
      ]
    },
    {
      "cell_type": "markdown",
      "metadata": {
        "id": "_tbaAmAJnpY8"
      },
      "source": [
        "#### .map(...)"
      ]
    },
    {
      "cell_type": "markdown",
      "metadata": {
        "id": "bUFo78RQnpY9"
      },
      "source": [
        "Метод применяется к каждому элементу RDD: в случае для датасета data_from_file_conv можно считать это как преобразование каждой строки"
      ]
    },
    {
      "cell_type": "code",
      "source": [
        "data_from_file_conv.take(20)[15]"
      ],
      "metadata": {
        "colab": {
          "base_uri": "https://localhost:8080/"
        },
        "id": "gKfZUwLXN-oe",
        "outputId": "26273288-9eaa-43da-9976-2f0816c185a5"
      },
      "execution_count": 47,
      "outputs": [
        {
          "output_type": "execute_result",
          "data": {
            "text/plain": [
              "array(['1', '  ', '4', '1', '01', 'F', '1', '070', ' ', '40', '20', '09',\n",
              "       '  ', '1', 'M', '4', '2014', 'U', '7', 'C', 'N', ' ', ' ', 'I251',\n",
              "       '215', '063', '   ', '21', '08', '11I251 ', '12I469 ', '21J449 ',\n",
              "       '22J459 ', '31I500 ', '61I10  ', '62D649 ', '63E669 ', '       ',\n",
              "       '       ', '       ', '       ', '       ', '       ', '       ',\n",
              "       '       ', '       ', '       ', '       ', '       ', '07',\n",
              "       'I251 ', 'D649 ', 'E669 ', 'I10  ', 'I469 ', 'I500 ', 'J448 ',\n",
              "       '     ', '     ', '     ', '     ', '     ', '     ', '     ',\n",
              "       '     ', '     ', '     ', '     ', '     ', '     ', '03', ' ',\n",
              "       ' ', '2', '3', '100', '8'], dtype='<U40')"
            ]
          },
          "metadata": {},
          "execution_count": 47
        }
      ]
    },
    {
      "cell_type": "code",
      "execution_count": 51,
      "metadata": {
        "id": "tqJ5xLx4npY9",
        "outputId": "efe24648-cc1b-4675-8f4a-233ba1c526ae",
        "colab": {
          "base_uri": "https://localhost:8080/"
        }
      },
      "outputs": [
        {
          "output_type": "execute_result",
          "data": {
            "text/plain": [
              "[4, 3, 2, 1, 2, 4, 6, 6, 6, -99, 2, 3, -99, 4, 6, 4, 2, 5, 4, 1]"
            ]
          },
          "metadata": {},
          "execution_count": 51
        }
      ],
      "source": [
        "data_2014 = data_from_file_conv.map(lambda row: int(row[15]))\n",
        "data_2014.take(20)\n",
        "#берём из каждой строки файла элемент №15,\n",
        "#преобразуем его в целое число и возвращаем 20 таких элементов'"
      ]
    },
    {
      "cell_type": "code",
      "source": [
        "translate('Unexpected bad things will happen if you don’t read this!')"
      ],
      "metadata": {
        "colab": {
          "base_uri": "https://localhost:8080/"
        },
        "id": "dWwo52BWl4h3",
        "outputId": "5ae6b2a6-b6b0-4ba0-a265-c4cc5d37ff90"
      },
      "execution_count": 95,
      "outputs": [
        {
          "output_type": "stream",
          "name": "stdout",
          "text": [
            "Неожиданные плохие вещи произойдут, если вы не прочитаете это!\n"
          ]
        }
      ]
    },
    {
      "cell_type": "code",
      "source": [
        "data_from_file_conv.map(lambda x: math.sqrt(int(x[9]))-2.0).take(8)"
      ],
      "metadata": {
        "colab": {
          "base_uri": "https://localhost:8080/"
        },
        "id": "g5FUJxDHSY9M",
        "outputId": "a85ed5fc-103a-4330-95e5-714a8b5eef49"
      },
      "execution_count": 90,
      "outputs": [
        {
          "output_type": "execute_result",
          "data": {
            "text/plain": [
              "[4.557438524302,\n",
              " 4.082762530298219,\n",
              " 4.4031242374328485,\n",
              " 4.324555320336759,\n",
              " 4.164414002968976,\n",
              " 4.6332495807108,\n",
              " 4.48074069840786,\n",
              " 4.082762530298219]"
            ]
          },
          "metadata": {},
          "execution_count": 90
        }
      ]
    },
    {
      "cell_type": "markdown",
      "metadata": {
        "id": "Kd8s6Gu7npY9"
      },
      "source": [
        "Вы можете комбинировать колонки"
      ]
    },
    {
      "cell_type": "code",
      "execution_count": 94,
      "metadata": {
        "id": "DZsvFsO6npY9",
        "outputId": "5a379c51-2d1f-4fef-8d8e-f6f163213e72",
        "colab": {
          "base_uri": "https://localhost:8080/"
        }
      },
      "outputs": [
        {
          "output_type": "execute_result",
          "data": {
            "text/plain": [
              "[(529, 9),\n",
              " (289, 9),\n",
              " (441, 9),\n",
              " (400, 9),\n",
              " (324, 9),\n",
              " (576, 9),\n",
              " (484, 9),\n",
              " (289, 9),\n",
              " (529, 9),\n",
              " (9801, 2122)]"
            ]
          },
          "metadata": {},
          "execution_count": 94
        }
      ],
      "source": [
        "data_2014_2 = data_from_file_conv.map(lambda row: (int(row[10])**2, 2023-int(row[16])))\n",
        "data_2014_2.take(10)"
      ]
    },
    {
      "cell_type": "markdown",
      "metadata": {
        "id": "9JaSlMgGnpY-"
      },
      "source": [
        "#### .filter(...)"
      ]
    },
    {
      "cell_type": "markdown",
      "metadata": {
        "id": "lUeVH9cinpY-"
      },
      "source": [
        "The `.filter(...)` method allows you to select elements of your dataset that fit specified criteria."
      ]
    },
    {
      "cell_type": "code",
      "execution_count": 20,
      "metadata": {
        "id": "MJsi503FnpY-",
        "outputId": "3dc1d3d1-002d-4ec0-d511-cd2bbc3e3cd1",
        "colab": {
          "base_uri": "https://localhost:8080/",
          "height": 494
        }
      },
      "outputs": [
        {
          "output_type": "stream",
          "name": "stderr",
          "text": [
            "ERROR:root:KeyboardInterrupt while sending command.\n",
            "Traceback (most recent call last):\n",
            "  File \"/usr/local/lib/python3.10/dist-packages/py4j/java_gateway.py\", line 1038, in send_command\n",
            "    response = connection.send_command(command)\n",
            "  File \"/usr/local/lib/python3.10/dist-packages/py4j/clientserver.py\", line 511, in send_command\n",
            "    answer = smart_decode(self.stream.readline()[:-1])\n",
            "  File \"/usr/lib/python3.10/socket.py\", line 705, in readinto\n",
            "    return self._sock.recv_into(b)\n",
            "KeyboardInterrupt\n"
          ]
        },
        {
          "output_type": "error",
          "ename": "KeyboardInterrupt",
          "evalue": "ignored",
          "traceback": [
            "\u001b[0;31m---------------------------------------------------------------------------\u001b[0m",
            "\u001b[0;31mKeyboardInterrupt\u001b[0m                         Traceback (most recent call last)",
            "\u001b[0;32m<ipython-input-20-6454cdc016ae>\u001b[0m in \u001b[0;36m<cell line: 2>\u001b[0;34m()\u001b[0m\n\u001b[1;32m      1\u001b[0m \u001b[0mdata_filtered\u001b[0m \u001b[0;34m=\u001b[0m \u001b[0mdata_from_file_conv\u001b[0m\u001b[0;34m.\u001b[0m\u001b[0mfilter\u001b[0m\u001b[0;34m(\u001b[0m\u001b[0;32mlambda\u001b[0m \u001b[0mrow\u001b[0m\u001b[0;34m:\u001b[0m \u001b[0mrow\u001b[0m\u001b[0;34m[\u001b[0m\u001b[0;36m5\u001b[0m\u001b[0;34m]\u001b[0m \u001b[0;34m==\u001b[0m \u001b[0;34m'F'\u001b[0m \u001b[0;32mand\u001b[0m \u001b[0mrow\u001b[0m\u001b[0;34m[\u001b[0m\u001b[0;36m21\u001b[0m\u001b[0;34m]\u001b[0m \u001b[0;34m==\u001b[0m \u001b[0;34m'0'\u001b[0m\u001b[0;34m)\u001b[0m\u001b[0;34m\u001b[0m\u001b[0;34m\u001b[0m\u001b[0m\n\u001b[0;32m----> 2\u001b[0;31m \u001b[0mdata_filtered\u001b[0m\u001b[0;34m.\u001b[0m\u001b[0mcount\u001b[0m\u001b[0;34m(\u001b[0m\u001b[0;34m)\u001b[0m\u001b[0;34m\u001b[0m\u001b[0;34m\u001b[0m\u001b[0m\n\u001b[0m",
            "\u001b[0;32m/usr/local/lib/python3.10/dist-packages/pyspark/rdd.py\u001b[0m in \u001b[0;36mcount\u001b[0;34m(self)\u001b[0m\n\u001b[1;32m   2295\u001b[0m         \u001b[0;36m3\u001b[0m\u001b[0;34m\u001b[0m\u001b[0;34m\u001b[0m\u001b[0m\n\u001b[1;32m   2296\u001b[0m         \"\"\"\n\u001b[0;32m-> 2297\u001b[0;31m         \u001b[0;32mreturn\u001b[0m \u001b[0mself\u001b[0m\u001b[0;34m.\u001b[0m\u001b[0mmapPartitions\u001b[0m\u001b[0;34m(\u001b[0m\u001b[0;32mlambda\u001b[0m \u001b[0mi\u001b[0m\u001b[0;34m:\u001b[0m \u001b[0;34m[\u001b[0m\u001b[0msum\u001b[0m\u001b[0;34m(\u001b[0m\u001b[0;36m1\u001b[0m \u001b[0;32mfor\u001b[0m \u001b[0m_\u001b[0m \u001b[0;32min\u001b[0m \u001b[0mi\u001b[0m\u001b[0;34m)\u001b[0m\u001b[0;34m]\u001b[0m\u001b[0;34m)\u001b[0m\u001b[0;34m.\u001b[0m\u001b[0msum\u001b[0m\u001b[0;34m(\u001b[0m\u001b[0;34m)\u001b[0m\u001b[0;34m\u001b[0m\u001b[0;34m\u001b[0m\u001b[0m\n\u001b[0m\u001b[1;32m   2298\u001b[0m \u001b[0;34m\u001b[0m\u001b[0m\n\u001b[1;32m   2299\u001b[0m     \u001b[0;32mdef\u001b[0m \u001b[0mstats\u001b[0m\u001b[0;34m(\u001b[0m\u001b[0mself\u001b[0m\u001b[0;34m:\u001b[0m \u001b[0;34m\"RDD[NumberOrArray]\"\u001b[0m\u001b[0;34m)\u001b[0m \u001b[0;34m->\u001b[0m \u001b[0mStatCounter\u001b[0m\u001b[0;34m:\u001b[0m\u001b[0;34m\u001b[0m\u001b[0;34m\u001b[0m\u001b[0m\n",
            "\u001b[0;32m/usr/local/lib/python3.10/dist-packages/pyspark/rdd.py\u001b[0m in \u001b[0;36msum\u001b[0;34m(self)\u001b[0m\n\u001b[1;32m   2270\u001b[0m         \u001b[0;36m6.0\u001b[0m\u001b[0;34m\u001b[0m\u001b[0;34m\u001b[0m\u001b[0m\n\u001b[1;32m   2271\u001b[0m         \"\"\"\n\u001b[0;32m-> 2272\u001b[0;31m         return self.mapPartitions(lambda x: [sum(x)]).fold(  # type: ignore[return-value]\n\u001b[0m\u001b[1;32m   2273\u001b[0m             \u001b[0;36m0\u001b[0m\u001b[0;34m,\u001b[0m \u001b[0moperator\u001b[0m\u001b[0;34m.\u001b[0m\u001b[0madd\u001b[0m\u001b[0;34m\u001b[0m\u001b[0;34m\u001b[0m\u001b[0m\n\u001b[1;32m   2274\u001b[0m         )\n",
            "\u001b[0;32m/usr/local/lib/python3.10/dist-packages/pyspark/rdd.py\u001b[0m in \u001b[0;36mfold\u001b[0;34m(self, zeroValue, op)\u001b[0m\n\u001b[1;32m   2023\u001b[0m         \u001b[0;31m# zeroValue provided to each partition is unique from the one provided\u001b[0m\u001b[0;34m\u001b[0m\u001b[0;34m\u001b[0m\u001b[0m\n\u001b[1;32m   2024\u001b[0m         \u001b[0;31m# to the final reduce call\u001b[0m\u001b[0;34m\u001b[0m\u001b[0;34m\u001b[0m\u001b[0m\n\u001b[0;32m-> 2025\u001b[0;31m         \u001b[0mvals\u001b[0m \u001b[0;34m=\u001b[0m \u001b[0mself\u001b[0m\u001b[0;34m.\u001b[0m\u001b[0mmapPartitions\u001b[0m\u001b[0;34m(\u001b[0m\u001b[0mfunc\u001b[0m\u001b[0;34m)\u001b[0m\u001b[0;34m.\u001b[0m\u001b[0mcollect\u001b[0m\u001b[0;34m(\u001b[0m\u001b[0;34m)\u001b[0m\u001b[0;34m\u001b[0m\u001b[0;34m\u001b[0m\u001b[0m\n\u001b[0m\u001b[1;32m   2026\u001b[0m         \u001b[0;32mreturn\u001b[0m \u001b[0mreduce\u001b[0m\u001b[0;34m(\u001b[0m\u001b[0mop\u001b[0m\u001b[0;34m,\u001b[0m \u001b[0mvals\u001b[0m\u001b[0;34m,\u001b[0m \u001b[0mzeroValue\u001b[0m\u001b[0;34m)\u001b[0m\u001b[0;34m\u001b[0m\u001b[0;34m\u001b[0m\u001b[0m\n\u001b[1;32m   2027\u001b[0m \u001b[0;34m\u001b[0m\u001b[0m\n",
            "\u001b[0;32m/usr/local/lib/python3.10/dist-packages/pyspark/rdd.py\u001b[0m in \u001b[0;36mcollect\u001b[0;34m(self)\u001b[0m\n\u001b[1;32m   1812\u001b[0m         \u001b[0;32mwith\u001b[0m \u001b[0mSCCallSiteSync\u001b[0m\u001b[0;34m(\u001b[0m\u001b[0mself\u001b[0m\u001b[0;34m.\u001b[0m\u001b[0mcontext\u001b[0m\u001b[0;34m)\u001b[0m\u001b[0;34m:\u001b[0m\u001b[0;34m\u001b[0m\u001b[0;34m\u001b[0m\u001b[0m\n\u001b[1;32m   1813\u001b[0m             \u001b[0;32massert\u001b[0m \u001b[0mself\u001b[0m\u001b[0;34m.\u001b[0m\u001b[0mctx\u001b[0m\u001b[0;34m.\u001b[0m\u001b[0m_jvm\u001b[0m \u001b[0;32mis\u001b[0m \u001b[0;32mnot\u001b[0m \u001b[0;32mNone\u001b[0m\u001b[0;34m\u001b[0m\u001b[0;34m\u001b[0m\u001b[0m\n\u001b[0;32m-> 1814\u001b[0;31m             \u001b[0msock_info\u001b[0m \u001b[0;34m=\u001b[0m \u001b[0mself\u001b[0m\u001b[0;34m.\u001b[0m\u001b[0mctx\u001b[0m\u001b[0;34m.\u001b[0m\u001b[0m_jvm\u001b[0m\u001b[0;34m.\u001b[0m\u001b[0mPythonRDD\u001b[0m\u001b[0;34m.\u001b[0m\u001b[0mcollectAndServe\u001b[0m\u001b[0;34m(\u001b[0m\u001b[0mself\u001b[0m\u001b[0;34m.\u001b[0m\u001b[0m_jrdd\u001b[0m\u001b[0;34m.\u001b[0m\u001b[0mrdd\u001b[0m\u001b[0;34m(\u001b[0m\u001b[0;34m)\u001b[0m\u001b[0;34m)\u001b[0m\u001b[0;34m\u001b[0m\u001b[0;34m\u001b[0m\u001b[0m\n\u001b[0m\u001b[1;32m   1815\u001b[0m         \u001b[0;32mreturn\u001b[0m \u001b[0mlist\u001b[0m\u001b[0;34m(\u001b[0m\u001b[0m_load_from_socket\u001b[0m\u001b[0;34m(\u001b[0m\u001b[0msock_info\u001b[0m\u001b[0;34m,\u001b[0m \u001b[0mself\u001b[0m\u001b[0;34m.\u001b[0m\u001b[0m_jrdd_deserializer\u001b[0m\u001b[0;34m)\u001b[0m\u001b[0;34m)\u001b[0m\u001b[0;34m\u001b[0m\u001b[0;34m\u001b[0m\u001b[0m\n\u001b[1;32m   1816\u001b[0m \u001b[0;34m\u001b[0m\u001b[0m\n",
            "\u001b[0;32m/usr/local/lib/python3.10/dist-packages/py4j/java_gateway.py\u001b[0m in \u001b[0;36m__call__\u001b[0;34m(self, *args)\u001b[0m\n\u001b[1;32m   1319\u001b[0m             \u001b[0mproto\u001b[0m\u001b[0;34m.\u001b[0m\u001b[0mEND_COMMAND_PART\u001b[0m\u001b[0;34m\u001b[0m\u001b[0;34m\u001b[0m\u001b[0m\n\u001b[1;32m   1320\u001b[0m \u001b[0;34m\u001b[0m\u001b[0m\n\u001b[0;32m-> 1321\u001b[0;31m         \u001b[0manswer\u001b[0m \u001b[0;34m=\u001b[0m \u001b[0mself\u001b[0m\u001b[0;34m.\u001b[0m\u001b[0mgateway_client\u001b[0m\u001b[0;34m.\u001b[0m\u001b[0msend_command\u001b[0m\u001b[0;34m(\u001b[0m\u001b[0mcommand\u001b[0m\u001b[0;34m)\u001b[0m\u001b[0;34m\u001b[0m\u001b[0;34m\u001b[0m\u001b[0m\n\u001b[0m\u001b[1;32m   1322\u001b[0m         return_value = get_return_value(\n\u001b[1;32m   1323\u001b[0m             answer, self.gateway_client, self.target_id, self.name)\n",
            "\u001b[0;32m/usr/local/lib/python3.10/dist-packages/py4j/java_gateway.py\u001b[0m in \u001b[0;36msend_command\u001b[0;34m(self, command, retry, binary)\u001b[0m\n\u001b[1;32m   1036\u001b[0m         \u001b[0mconnection\u001b[0m \u001b[0;34m=\u001b[0m \u001b[0mself\u001b[0m\u001b[0;34m.\u001b[0m\u001b[0m_get_connection\u001b[0m\u001b[0;34m(\u001b[0m\u001b[0;34m)\u001b[0m\u001b[0;34m\u001b[0m\u001b[0;34m\u001b[0m\u001b[0m\n\u001b[1;32m   1037\u001b[0m         \u001b[0;32mtry\u001b[0m\u001b[0;34m:\u001b[0m\u001b[0;34m\u001b[0m\u001b[0;34m\u001b[0m\u001b[0m\n\u001b[0;32m-> 1038\u001b[0;31m             \u001b[0mresponse\u001b[0m \u001b[0;34m=\u001b[0m \u001b[0mconnection\u001b[0m\u001b[0;34m.\u001b[0m\u001b[0msend_command\u001b[0m\u001b[0;34m(\u001b[0m\u001b[0mcommand\u001b[0m\u001b[0;34m)\u001b[0m\u001b[0;34m\u001b[0m\u001b[0;34m\u001b[0m\u001b[0m\n\u001b[0m\u001b[1;32m   1039\u001b[0m             \u001b[0;32mif\u001b[0m \u001b[0mbinary\u001b[0m\u001b[0;34m:\u001b[0m\u001b[0;34m\u001b[0m\u001b[0;34m\u001b[0m\u001b[0m\n\u001b[1;32m   1040\u001b[0m                 \u001b[0;32mreturn\u001b[0m \u001b[0mresponse\u001b[0m\u001b[0;34m,\u001b[0m \u001b[0mself\u001b[0m\u001b[0;34m.\u001b[0m\u001b[0m_create_connection_guard\u001b[0m\u001b[0;34m(\u001b[0m\u001b[0mconnection\u001b[0m\u001b[0;34m)\u001b[0m\u001b[0;34m\u001b[0m\u001b[0;34m\u001b[0m\u001b[0m\n",
            "\u001b[0;32m/usr/local/lib/python3.10/dist-packages/py4j/clientserver.py\u001b[0m in \u001b[0;36msend_command\u001b[0;34m(self, command)\u001b[0m\n\u001b[1;32m    509\u001b[0m         \u001b[0;32mtry\u001b[0m\u001b[0;34m:\u001b[0m\u001b[0;34m\u001b[0m\u001b[0;34m\u001b[0m\u001b[0m\n\u001b[1;32m    510\u001b[0m             \u001b[0;32mwhile\u001b[0m \u001b[0;32mTrue\u001b[0m\u001b[0;34m:\u001b[0m\u001b[0;34m\u001b[0m\u001b[0;34m\u001b[0m\u001b[0m\n\u001b[0;32m--> 511\u001b[0;31m                 \u001b[0manswer\u001b[0m \u001b[0;34m=\u001b[0m \u001b[0msmart_decode\u001b[0m\u001b[0;34m(\u001b[0m\u001b[0mself\u001b[0m\u001b[0;34m.\u001b[0m\u001b[0mstream\u001b[0m\u001b[0;34m.\u001b[0m\u001b[0mreadline\u001b[0m\u001b[0;34m(\u001b[0m\u001b[0;34m)\u001b[0m\u001b[0;34m[\u001b[0m\u001b[0;34m:\u001b[0m\u001b[0;34m-\u001b[0m\u001b[0;36m1\u001b[0m\u001b[0;34m]\u001b[0m\u001b[0;34m)\u001b[0m\u001b[0;34m\u001b[0m\u001b[0;34m\u001b[0m\u001b[0m\n\u001b[0m\u001b[1;32m    512\u001b[0m                 \u001b[0mlogger\u001b[0m\u001b[0;34m.\u001b[0m\u001b[0mdebug\u001b[0m\u001b[0;34m(\u001b[0m\u001b[0;34m\"Answer received: {0}\"\u001b[0m\u001b[0;34m.\u001b[0m\u001b[0mformat\u001b[0m\u001b[0;34m(\u001b[0m\u001b[0manswer\u001b[0m\u001b[0;34m)\u001b[0m\u001b[0;34m)\u001b[0m\u001b[0;34m\u001b[0m\u001b[0;34m\u001b[0m\u001b[0m\n\u001b[1;32m    513\u001b[0m                 \u001b[0;31m# Happens when a the other end is dead. There might be an empty\u001b[0m\u001b[0;34m\u001b[0m\u001b[0;34m\u001b[0m\u001b[0m\n",
            "\u001b[0;32m/usr/lib/python3.10/socket.py\u001b[0m in \u001b[0;36mreadinto\u001b[0;34m(self, b)\u001b[0m\n\u001b[1;32m    703\u001b[0m         \u001b[0;32mwhile\u001b[0m \u001b[0;32mTrue\u001b[0m\u001b[0;34m:\u001b[0m\u001b[0;34m\u001b[0m\u001b[0;34m\u001b[0m\u001b[0m\n\u001b[1;32m    704\u001b[0m             \u001b[0;32mtry\u001b[0m\u001b[0;34m:\u001b[0m\u001b[0;34m\u001b[0m\u001b[0;34m\u001b[0m\u001b[0m\n\u001b[0;32m--> 705\u001b[0;31m                 \u001b[0;32mreturn\u001b[0m \u001b[0mself\u001b[0m\u001b[0;34m.\u001b[0m\u001b[0m_sock\u001b[0m\u001b[0;34m.\u001b[0m\u001b[0mrecv_into\u001b[0m\u001b[0;34m(\u001b[0m\u001b[0mb\u001b[0m\u001b[0;34m)\u001b[0m\u001b[0;34m\u001b[0m\u001b[0;34m\u001b[0m\u001b[0m\n\u001b[0m\u001b[1;32m    706\u001b[0m             \u001b[0;32mexcept\u001b[0m \u001b[0mtimeout\u001b[0m\u001b[0;34m:\u001b[0m\u001b[0;34m\u001b[0m\u001b[0;34m\u001b[0m\u001b[0m\n\u001b[1;32m    707\u001b[0m                 \u001b[0mself\u001b[0m\u001b[0;34m.\u001b[0m\u001b[0m_timeout_occurred\u001b[0m \u001b[0;34m=\u001b[0m \u001b[0;32mTrue\u001b[0m\u001b[0;34m\u001b[0m\u001b[0;34m\u001b[0m\u001b[0m\n",
            "\u001b[0;31mKeyboardInterrupt\u001b[0m: "
          ]
        }
      ],
      "source": [
        "data_filtered = data_from_file_conv.filter(lambda row: row[5] == 'F' and row[21] == '0')\n",
        "data_filtered.count()"
      ]
    },
    {
      "cell_type": "markdown",
      "metadata": {
        "id": "Ju0FTNcSnpY_"
      },
      "source": [
        "#### .flatMap(...)"
      ]
    },
    {
      "cell_type": "markdown",
      "metadata": {
        "id": "nYL0vzjHnpY_"
      },
      "source": [
        "The `.flatMap(...)` method works similarly to `.map(...)` but returns a flattened results instead of a list."
      ]
    },
    {
      "cell_type": "code",
      "execution_count": null,
      "metadata": {
        "id": "akoyKm8jnpY_"
      },
      "outputs": [],
      "source": [
        "data_2014_flat = data_from_file_conv.flatMap(lambda row: (row[16], int(row[16]) + 1))\n",
        "data_2014_flat.take(10)"
      ]
    },
    {
      "cell_type": "markdown",
      "metadata": {
        "id": "4aZC8yHjnpZA"
      },
      "source": [
        "#### .distinct()"
      ]
    },
    {
      "cell_type": "markdown",
      "metadata": {
        "id": "XkjmMBvdnpZA"
      },
      "source": [
        "This method returns a list of distinct values in a specified column."
      ]
    },
    {
      "cell_type": "code",
      "execution_count": null,
      "metadata": {
        "id": "RSVV83c2npZA"
      },
      "outputs": [],
      "source": [
        "distinct_gender = data_from_file_conv.map(lambda row: row[5]).distinct().collect()\n",
        "distinct_gender"
      ]
    },
    {
      "cell_type": "markdown",
      "metadata": {
        "id": "7zqUDMZ7npZA"
      },
      "source": [
        "#### .sample(...)"
      ]
    },
    {
      "cell_type": "markdown",
      "metadata": {
        "id": "brjJRdc7npZB"
      },
      "source": [
        "The `.sample()` method returns a randomized sample from the dataset."
      ]
    },
    {
      "cell_type": "code",
      "execution_count": null,
      "metadata": {
        "id": "aD42-1PHnpZB"
      },
      "outputs": [],
      "source": [
        "fraction = 0.1\n",
        "data_sample = data_from_file_conv.sample(False, fraction, 666)\n",
        "\n",
        "data_sample.take(1)"
      ]
    },
    {
      "cell_type": "markdown",
      "metadata": {
        "id": "yyzm6dSfnpZB"
      },
      "source": [
        "Let's confirm that we really got 10% of all the records."
      ]
    },
    {
      "cell_type": "code",
      "execution_count": null,
      "metadata": {
        "id": "3Kx4ZK2CnpZM"
      },
      "outputs": [],
      "source": [
        "print('Original dataset: {0}, sample: {1}'.format(data_from_file_conv.count(), data_sample.count()))"
      ]
    },
    {
      "cell_type": "markdown",
      "metadata": {
        "id": "ucypG4FDnpZM"
      },
      "source": [
        "#### .leftOuterJoin(...)"
      ]
    },
    {
      "cell_type": "markdown",
      "metadata": {
        "id": "RRVRQs_bnpZM"
      },
      "source": [
        "Left outer join, just like the SQL world, joins two RDDs based on the values found in both datasets, and returns records from the left RDD with records from the right one appended where the two RDDs match."
      ]
    },
    {
      "cell_type": "code",
      "execution_count": null,
      "metadata": {
        "id": "kd2Y97_4npZN"
      },
      "outputs": [],
      "source": [
        "rdd1 = sc.parallelize([('a', 1), ('b', 4), ('c',10)])\n",
        "rdd2 = sc.parallelize([('a', 4), ('a', 1), ('b', '6'), ('d', 15)])\n",
        "\n",
        "rdd3 = rdd1.leftOuterJoin(rdd2)\n",
        "rdd3.take(5)"
      ]
    },
    {
      "cell_type": "markdown",
      "metadata": {
        "id": "u11bed_enpZN"
      },
      "source": [
        "If we used `.join(...)` method instead we would have gotten only the values for `'a'` and `'b'` as these two values intersect between these two RDDs."
      ]
    },
    {
      "cell_type": "code",
      "execution_count": null,
      "metadata": {
        "id": "EWO7SJMDnpZN"
      },
      "outputs": [],
      "source": [
        "rdd4 = rdd1.join(rdd2)\n",
        "rdd4.collect()"
      ]
    },
    {
      "cell_type": "markdown",
      "metadata": {
        "id": "XBdq6V0onpZO"
      },
      "source": [
        "Another useful method is the `.intersection(...)` that returns the records that are *equal* in both RDDs."
      ]
    },
    {
      "cell_type": "code",
      "execution_count": null,
      "metadata": {
        "id": "FiVw-LAOnpZO"
      },
      "outputs": [],
      "source": [
        "rdd5 = rdd1.intersection(rdd2)\n",
        "rdd5.collect()"
      ]
    },
    {
      "cell_type": "markdown",
      "metadata": {
        "id": "Z8621Q4dnpZO"
      },
      "source": [
        "#### .repartition(...)"
      ]
    },
    {
      "cell_type": "markdown",
      "metadata": {
        "id": "oxNPGPtynpZO"
      },
      "source": [
        "Repartitioning the dataset changes the number of partitions the dataset is divided into."
      ]
    },
    {
      "cell_type": "code",
      "execution_count": null,
      "metadata": {
        "id": "2SuvkBTFnpZO"
      },
      "outputs": [],
      "source": [
        "rdd1 = rdd1.repartition(4)\n",
        "\n",
        "len(rdd1.glom().collect())"
      ]
    },
    {
      "cell_type": "code",
      "source": [
        "type(rdd1)"
      ],
      "metadata": {
        "id": "E9V96EqN3nc4"
      },
      "execution_count": null,
      "outputs": []
    },
    {
      "cell_type": "markdown",
      "metadata": {
        "id": "Mrm8YRjNnpZP"
      },
      "source": [
        "### Actions"
      ]
    },
    {
      "cell_type": "markdown",
      "metadata": {
        "id": "mdOlvXBrnpZP"
      },
      "source": [
        "#### .take(...)"
      ]
    },
    {
      "cell_type": "markdown",
      "metadata": {
        "id": "-45iTbYGnpZP"
      },
      "source": [
        "The method returns `n` top rows from a single data partition."
      ]
    },
    {
      "cell_type": "code",
      "execution_count": null,
      "metadata": {
        "id": "s17B7gBqnpZP"
      },
      "outputs": [],
      "source": [
        "data_first = data_from_file_conv.take(1)\n",
        "data_first"
      ]
    },
    {
      "cell_type": "markdown",
      "metadata": {
        "id": "MszuVvCDnpZP"
      },
      "source": [
        "If you want somewhat randomized records you can use `.takeSample(...)` instead."
      ]
    },
    {
      "cell_type": "code",
      "execution_count": null,
      "metadata": {
        "id": "hmKdjz3EnpZP"
      },
      "outputs": [],
      "source": [
        "data_take_sampled = data_from_file_conv.takeSample(False, 1, 667)\n",
        "data_take_sampled"
      ]
    },
    {
      "cell_type": "markdown",
      "metadata": {
        "id": "q8zBPrIWnpZQ"
      },
      "source": [
        "#### .reduce(...)"
      ]
    },
    {
      "cell_type": "markdown",
      "metadata": {
        "id": "UikSt49-npZQ"
      },
      "source": [
        "Another action that processes your data, the `.reduce(...)` method *reduces* the elements of an RDD using a specified method."
      ]
    },
    {
      "cell_type": "code",
      "execution_count": null,
      "metadata": {
        "id": "9VvwOerAnpZQ"
      },
      "outputs": [],
      "source": [
        "rdd1.map(lambda row: row[1]).reduce(lambda x, y: x + y)"
      ]
    },
    {
      "cell_type": "markdown",
      "metadata": {
        "id": "45lMYV6gnpZQ"
      },
      "source": [
        "If the reducing function is not associative and commutative you will sometimes get wrong results depending how your data is partitioned."
      ]
    },
    {
      "cell_type": "code",
      "execution_count": null,
      "metadata": {
        "id": "fkBrrDzPnpZQ"
      },
      "outputs": [],
      "source": [
        "data_reduce = sc.parallelize([1, 2, .5, .1, 5, .2], 1)"
      ]
    },
    {
      "cell_type": "markdown",
      "metadata": {
        "id": "P2oMLZklnpZR"
      },
      "source": [
        "I we were to reduce the data in a manner that we would like to *divide* the current result by the subsequent one, we would expect a value of 10"
      ]
    },
    {
      "cell_type": "code",
      "execution_count": null,
      "metadata": {
        "id": "LcbggMrInpZR"
      },
      "outputs": [],
      "source": [
        "works = data_reduce.reduce(lambda x, y: x / y)\n",
        "works"
      ]
    },
    {
      "cell_type": "markdown",
      "metadata": {
        "id": "855xFUZlnpZR"
      },
      "source": [
        "However, if you were to partition the data into 3 partitions, the result will be wrong."
      ]
    },
    {
      "cell_type": "code",
      "execution_count": null,
      "metadata": {
        "id": "AcukesJenpZR"
      },
      "outputs": [],
      "source": [
        "data_reduce = sc.parallelize([1, 2, .5, .1, 5, .2], 3)\n",
        "data_reduce.reduce(lambda x, y: x / y)"
      ]
    },
    {
      "cell_type": "markdown",
      "metadata": {
        "id": "_RUAfpFnnpZR"
      },
      "source": [
        "The `.reduceByKey(...)` method works in a similar way to the `.reduce(...)` method but performs a reduction on a key-by-key basis."
      ]
    },
    {
      "cell_type": "code",
      "execution_count": null,
      "metadata": {
        "id": "l47PyqmhnpZR"
      },
      "outputs": [],
      "source": [
        "data_key = sc.parallelize([('a', 4),('b', 3),('c', 2),('a', 8),('d', 2),('b', 1),('d', 3)],4)\n",
        "data_key.reduceByKey(lambda x, y: x + y).collect()"
      ]
    },
    {
      "cell_type": "markdown",
      "metadata": {
        "id": "F0elxcKnnpZS"
      },
      "source": [
        "#### .count()"
      ]
    },
    {
      "cell_type": "markdown",
      "metadata": {
        "id": "vPayZZ2pnpZS"
      },
      "source": [
        "The `.count()` method counts the number of elements in the RDD."
      ]
    },
    {
      "cell_type": "code",
      "execution_count": null,
      "metadata": {
        "id": "U68jsKcAnpZS"
      },
      "outputs": [],
      "source": [
        "data_reduce.count()"
      ]
    },
    {
      "cell_type": "markdown",
      "metadata": {
        "id": "veT_0MZInpZS"
      },
      "source": [
        "It has the same effect as the method below but does not require shifting the data to the driver."
      ]
    },
    {
      "cell_type": "code",
      "execution_count": null,
      "metadata": {
        "id": "egS-EHh0npZS"
      },
      "outputs": [],
      "source": [
        "len(data_reduce.collect()) # WRONG -- DON'T DO THIS!"
      ]
    },
    {
      "cell_type": "markdown",
      "metadata": {
        "id": "Cb7Y-q3unpZT"
      },
      "source": [
        "If your dataset is in a form of a *key-value* you can use the `.countByKey()` method to get the counts of distinct keys."
      ]
    },
    {
      "cell_type": "code",
      "execution_count": null,
      "metadata": {
        "id": "A_rkyjQFnpZT"
      },
      "outputs": [],
      "source": [
        "data_key.countByKey().items()"
      ]
    },
    {
      "cell_type": "markdown",
      "metadata": {
        "id": "7KzbHyl-npZT"
      },
      "source": [
        "#### .saveAsTextFile(...)"
      ]
    },
    {
      "cell_type": "markdown",
      "metadata": {
        "id": "g61MUgMNnpZT"
      },
      "source": [
        "As the name suggests, the `.saveAsTextFile()` the RDD and saves it to text files: each partition to a separate file."
      ]
    },
    {
      "cell_type": "code",
      "execution_count": null,
      "metadata": {
        "id": "s0k3hQDLnpZT"
      },
      "outputs": [],
      "source": [
        "data_key.saveAsTextFile('/Users/drabast/Documents/PySpark_Data/data_key.txt')"
      ]
    },
    {
      "cell_type": "markdown",
      "metadata": {
        "id": "P82mcjq-npZT"
      },
      "source": [
        "To read it back, you need to parse it back as, as before, all the rows are treated as strings."
      ]
    },
    {
      "cell_type": "code",
      "execution_count": null,
      "metadata": {
        "id": "qGnN57H5npZU"
      },
      "outputs": [],
      "source": [
        "def parseInput(row):\n",
        "    import re\n",
        "\n",
        "    pattern = re.compile(r'\\(\\'([a-z])\\', ([0-9])\\)')\n",
        "    row_split = pattern.split(row)\n",
        "\n",
        "    return (row_split[1], int(row_split[2]))\n",
        "\n",
        "data_key_reread = sc \\\n",
        "    .textFile('/Users/drabast/Documents/PySpark_Data/data_key.txt') \\\n",
        "    .map(parseInput)\n",
        "data_key_reread.collect()"
      ]
    },
    {
      "cell_type": "markdown",
      "metadata": {
        "id": "Z50Me1yenpZU"
      },
      "source": [
        "**.foreach(...)**"
      ]
    },
    {
      "cell_type": "markdown",
      "metadata": {
        "id": "vIJvfP1MnpZU"
      },
      "source": [
        "A method that applies the same function to each element of the RDD in an iterative way."
      ]
    },
    {
      "cell_type": "code",
      "execution_count": null,
      "metadata": {
        "id": "e2Bk9zGBnpZV"
      },
      "outputs": [],
      "source": [
        "def f(x):\n",
        "    print(x)\n",
        "\n",
        "data_key.foreach(f)"
      ]
    }
  ],
  "metadata": {
    "kernelspec": {
      "display_name": "Python 3",
      "language": "python",
      "name": "python3"
    },
    "language_info": {
      "codemirror_mode": {
        "name": "ipython",
        "version": 3
      },
      "file_extension": ".py",
      "mimetype": "text/x-python",
      "name": "python",
      "nbconvert_exporter": "python",
      "pygments_lexer": "ipython3",
      "version": "3.5.2"
    },
    "colab": {
      "provenance": [],
      "toc_visible": true
    }
  },
  "nbformat": 4,
  "nbformat_minor": 0
}